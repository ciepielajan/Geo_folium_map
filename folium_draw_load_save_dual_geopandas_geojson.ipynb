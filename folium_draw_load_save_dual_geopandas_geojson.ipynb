{
  "nbformat": 4,
  "nbformat_minor": 0,
  "metadata": {
    "kernelspec": {
      "display_name": "Python 3",
      "language": "python",
      "name": "python3"
    },
    "language_info": {
      "codemirror_mode": {
        "name": "ipython",
        "version": 3
      },
      "file_extension": ".py",
      "mimetype": "text/x-python",
      "name": "python",
      "nbconvert_exporter": "python",
      "pygments_lexer": "ipython3",
      "version": "3.9.0"
    },
    "colab": {
      "name": "folium draw load save dual geopandas geojson.ipynb",
      "provenance": [],
      "include_colab_link": true
    }
  },
  "cells": [
    {
      "cell_type": "markdown",
      "metadata": {
        "id": "view-in-github",
        "colab_type": "text"
      },
      "source": [
        "<a href=\"https://colab.research.google.com/github/ciepielajan/Geo_folium_map/blob/main/folium_draw_load_save_dual_geopandas_geojson.ipynb\" target=\"_parent\"><img src=\"https://colab.research.google.com/assets/colab-badge.svg\" alt=\"Open In Colab\"/></a>"
      ]
    },
    {
      "cell_type": "code",
      "metadata": {
        "id": "g02E7Qkk46Tv",
        "colab": {
          "base_uri": "https://localhost:8080/",
          "height": 810
        },
        "outputId": "332b5477-7273-4225-e76b-9c7ba57479a1"
      },
      "source": [
        "import folium  # mapa\n",
        "from folium.plugins import Draw  # rysownia\n",
        "\n",
        "\n",
        "tiles = \"My maps\"\n",
        "zoom_start = 13\n",
        "location = [50.05,19.95]  # kraków\n",
        "\n",
        "\n",
        "m = folium.Map(\n",
        "    location=location, attr=tiles, zoom_start=zoom_start\n",
        ")\n",
        "\n",
        "\n",
        "folium.Circle(\n",
        "    radius=100,\n",
        "    location=location,\n",
        "    popup=\"The Waterfront\",\n",
        "    color=\"crimson\",\n",
        "    fill=False,\n",
        ").add_to(m)\n",
        "\n",
        "draw = Draw(export=True,    # przycisk na mapie\n",
        "            filename='data.geojson',)     # przycisk na mapie\n",
        "draw.add_to(m)\n",
        "\n",
        "m"
      ],
      "execution_count": null,
      "outputs": [
        {
          "output_type": "execute_result",
          "data": {
            "text/html": [
              "<div style=\"width:100%;\"><div style=\"position:relative;width:100%;height:0;padding-bottom:60%;\"><span style=\"color:#565656\">Make this Notebook Trusted to load map: File -> Trust Notebook</span><iframe src=\"about:blank\" style=\"position:absolute;width:100%;height:100%;left:0;top:0;border:none !important;\" data-html=%3C%21DOCTYPE%20html%3E%0A%3Chead%3E%20%20%20%20%0A%20%20%20%20%3Cmeta%20http-equiv%3D%22content-type%22%20content%3D%22text/html%3B%20charset%3DUTF-8%22%20/%3E%0A%20%20%20%20%3Cscript%3EL_PREFER_CANVAS%3Dfalse%3B%20L_NO_TOUCH%3Dfalse%3B%20L_DISABLE_3D%3Dfalse%3B%3C/script%3E%0A%20%20%20%20%3Cscript%20src%3D%22https%3A//cdn.jsdelivr.net/npm/leaflet%401.4.0/dist/leaflet.js%22%3E%3C/script%3E%0A%20%20%20%20%3Cscript%20src%3D%22https%3A//code.jquery.com/jquery-1.12.4.min.js%22%3E%3C/script%3E%0A%20%20%20%20%3Cscript%20src%3D%22https%3A//maxcdn.bootstrapcdn.com/bootstrap/3.2.0/js/bootstrap.min.js%22%3E%3C/script%3E%0A%20%20%20%20%3Cscript%20src%3D%22https%3A//cdnjs.cloudflare.com/ajax/libs/Leaflet.awesome-markers/2.0.2/leaflet.awesome-markers.js%22%3E%3C/script%3E%0A%20%20%20%20%3Clink%20rel%3D%22stylesheet%22%20href%3D%22https%3A//cdn.jsdelivr.net/npm/leaflet%401.4.0/dist/leaflet.css%22/%3E%0A%20%20%20%20%3Clink%20rel%3D%22stylesheet%22%20href%3D%22https%3A//maxcdn.bootstrapcdn.com/bootstrap/3.2.0/css/bootstrap.min.css%22/%3E%0A%20%20%20%20%3Clink%20rel%3D%22stylesheet%22%20href%3D%22https%3A//maxcdn.bootstrapcdn.com/bootstrap/3.2.0/css/bootstrap-theme.min.css%22/%3E%0A%20%20%20%20%3Clink%20rel%3D%22stylesheet%22%20href%3D%22https%3A//maxcdn.bootstrapcdn.com/font-awesome/4.6.3/css/font-awesome.min.css%22/%3E%0A%20%20%20%20%3Clink%20rel%3D%22stylesheet%22%20href%3D%22https%3A//cdnjs.cloudflare.com/ajax/libs/Leaflet.awesome-markers/2.0.2/leaflet.awesome-markers.css%22/%3E%0A%20%20%20%20%3Clink%20rel%3D%22stylesheet%22%20href%3D%22https%3A//rawcdn.githack.com/python-visualization/folium/master/folium/templates/leaflet.awesome.rotate.css%22/%3E%0A%20%20%20%20%3Cstyle%3Ehtml%2C%20body%20%7Bwidth%3A%20100%25%3Bheight%3A%20100%25%3Bmargin%3A%200%3Bpadding%3A%200%3B%7D%3C/style%3E%0A%20%20%20%20%3Cstyle%3E%23map%20%7Bposition%3Aabsolute%3Btop%3A0%3Bbottom%3A0%3Bright%3A0%3Bleft%3A0%3B%7D%3C/style%3E%0A%20%20%20%20%0A%20%20%20%20%3Cmeta%20name%3D%22viewport%22%20content%3D%22width%3Ddevice-width%2C%0A%20%20%20%20%20%20%20%20initial-scale%3D1.0%2C%20maximum-scale%3D1.0%2C%20user-scalable%3Dno%22%20/%3E%0A%20%20%20%20%3Cstyle%3E%23map_55ff9f3d8a574fb488e72e8fad69398c%20%7B%0A%20%20%20%20%20%20%20%20position%3A%20relative%3B%0A%20%20%20%20%20%20%20%20width%3A%20100.0%25%3B%0A%20%20%20%20%20%20%20%20height%3A%20100.0%25%3B%0A%20%20%20%20%20%20%20%20left%3A%200.0%25%3B%0A%20%20%20%20%20%20%20%20top%3A%200.0%25%3B%0A%20%20%20%20%20%20%20%20%7D%0A%20%20%20%20%3C/style%3E%0A%20%20%20%20%3Cscript%20src%3D%22https%3A//cdnjs.cloudflare.com/ajax/libs/leaflet.draw/1.0.2/leaflet.draw.js%22%3E%3C/script%3E%0A%20%20%20%20%3Clink%20rel%3D%22stylesheet%22%20href%3D%22https%3A//cdnjs.cloudflare.com/ajax/libs/leaflet.draw/1.0.2/leaflet.draw.css%22/%3E%0A%20%20%20%20%3Cstyle%3E%0A%20%20%20%20%20%20%20%20%23export%20%7B%0A%20%20%20%20%20%20%20%20%20%20%20%20position%3A%20absolute%3B%0A%20%20%20%20%20%20%20%20%20%20%20%20top%3A%205px%3B%0A%20%20%20%20%20%20%20%20%20%20%20%20right%3A%2010px%3B%0A%20%20%20%20%20%20%20%20%20%20%20%20z-index%3A%20999%3B%0A%20%20%20%20%20%20%20%20%20%20%20%20background%3A%20white%3B%0A%20%20%20%20%20%20%20%20%20%20%20%20color%3A%20black%3B%0A%20%20%20%20%20%20%20%20%20%20%20%20padding%3A%206px%3B%0A%20%20%20%20%20%20%20%20%20%20%20%20border-radius%3A%204px%3B%0A%20%20%20%20%20%20%20%20%20%20%20%20font-family%3A%20%27Helvetica%20Neue%27%3B%0A%20%20%20%20%20%20%20%20%20%20%20%20cursor%3A%20pointer%3B%0A%20%20%20%20%20%20%20%20%20%20%20%20font-size%3A%2012px%3B%0A%20%20%20%20%20%20%20%20%20%20%20%20text-decoration%3A%20none%3B%0A%20%20%20%20%20%20%20%20%20%20%20%20top%3A%2090px%3B%0A%20%20%20%20%20%20%20%20%7D%0A%20%20%20%20%20%20%20%20%3C/style%3E%0A%3C/head%3E%0A%3Cbody%3E%20%20%20%20%0A%20%20%20%20%0A%20%20%20%20%3Cdiv%20class%3D%22folium-map%22%20id%3D%22map_55ff9f3d8a574fb488e72e8fad69398c%22%20%3E%3C/div%3E%0A%20%20%20%20%3Ca%20href%3D%27%23%27%20id%3D%27export%27%3EExport%3C/a%3E%0A%3C/body%3E%0A%3Cscript%3E%20%20%20%20%0A%20%20%20%20%0A%20%20%20%20%0A%20%20%20%20%20%20%20%20var%20bounds%20%3D%20null%3B%0A%20%20%20%20%0A%0A%20%20%20%20var%20map_55ff9f3d8a574fb488e72e8fad69398c%20%3D%20L.map%28%0A%20%20%20%20%20%20%20%20%27map_55ff9f3d8a574fb488e72e8fad69398c%27%2C%20%7B%0A%20%20%20%20%20%20%20%20center%3A%20%5B50.05%2C%2019.95%5D%2C%0A%20%20%20%20%20%20%20%20zoom%3A%2013%2C%0A%20%20%20%20%20%20%20%20maxBounds%3A%20bounds%2C%0A%20%20%20%20%20%20%20%20layers%3A%20%5B%5D%2C%0A%20%20%20%20%20%20%20%20worldCopyJump%3A%20false%2C%0A%20%20%20%20%20%20%20%20crs%3A%20L.CRS.EPSG3857%2C%0A%20%20%20%20%20%20%20%20zoomControl%3A%20true%2C%0A%20%20%20%20%20%20%20%20%7D%29%3B%0A%0A%0A%20%20%20%20%0A%20%20%20%20var%20tile_layer_63929d28dc164dc5839091b99e873d83%20%3D%20L.tileLayer%28%0A%20%20%20%20%20%20%20%20%27https%3A//%7Bs%7D.tile.openstreetmap.org/%7Bz%7D/%7Bx%7D/%7By%7D.png%27%2C%0A%20%20%20%20%20%20%20%20%7B%0A%20%20%20%20%20%20%20%20%22attribution%22%3A%20%22My%20maps%22%2C%0A%20%20%20%20%20%20%20%20%22detectRetina%22%3A%20false%2C%0A%20%20%20%20%20%20%20%20%22maxNativeZoom%22%3A%2018%2C%0A%20%20%20%20%20%20%20%20%22maxZoom%22%3A%2018%2C%0A%20%20%20%20%20%20%20%20%22minZoom%22%3A%200%2C%0A%20%20%20%20%20%20%20%20%22noWrap%22%3A%20false%2C%0A%20%20%20%20%20%20%20%20%22opacity%22%3A%201%2C%0A%20%20%20%20%20%20%20%20%22subdomains%22%3A%20%22abc%22%2C%0A%20%20%20%20%20%20%20%20%22tms%22%3A%20false%0A%7D%29.addTo%28map_55ff9f3d8a574fb488e72e8fad69398c%29%3B%0A%20%20%20%20%0A%0A%20%20%20%20%20%20%20%20%20%20%20%20var%20circle_d018923dc77e4a23bee49bec0b3ace45%20%3D%20L.circle%28%0A%20%20%20%20%20%20%20%20%20%20%20%20%20%20%20%20%5B50.05%2C%2019.95%5D%2C%0A%20%20%20%20%20%20%20%20%20%20%20%20%20%20%20%20%7B%0A%20%20%22bubblingMouseEvents%22%3A%20true%2C%0A%20%20%22color%22%3A%20%22crimson%22%2C%0A%20%20%22dashArray%22%3A%20null%2C%0A%20%20%22dashOffset%22%3A%20null%2C%0A%20%20%22fill%22%3A%20false%2C%0A%20%20%22fillColor%22%3A%20%22crimson%22%2C%0A%20%20%22fillOpacity%22%3A%200.2%2C%0A%20%20%22fillRule%22%3A%20%22evenodd%22%2C%0A%20%20%22lineCap%22%3A%20%22round%22%2C%0A%20%20%22lineJoin%22%3A%20%22round%22%2C%0A%20%20%22opacity%22%3A%201.0%2C%0A%20%20%22radius%22%3A%20100%2C%0A%20%20%22stroke%22%3A%20true%2C%0A%20%20%22weight%22%3A%203%0A%7D%0A%20%20%20%20%20%20%20%20%20%20%20%20%20%20%20%20%29%0A%20%20%20%20%20%20%20%20%20%20%20%20%20%20%20%20.addTo%28map_55ff9f3d8a574fb488e72e8fad69398c%29%3B%0A%20%20%20%20%20%20%20%20%20%20%20%20%0A%20%20%20%20%0A%20%20%20%20%20%20%20%20%20%20%20%20var%20popup_db39a106f53544e79fb0ba86ea6ac302%20%3D%20L.popup%28%7BmaxWidth%3A%20%27100%25%27%0A%20%20%20%20%20%20%20%20%20%20%20%20%0A%20%20%20%20%20%20%20%20%20%20%20%20%7D%29%3B%0A%0A%20%20%20%20%20%20%20%20%20%20%20%20%0A%20%20%20%20%20%20%20%20%20%20%20%20%20%20%20%20var%20html_6a6573086de549e2b079941c7b5ce078%20%3D%20%24%28%60%3Cdiv%20id%3D%22html_6a6573086de549e2b079941c7b5ce078%22%20style%3D%22width%3A%20100.0%25%3B%20height%3A%20100.0%25%3B%22%3EThe%20Waterfront%3C/div%3E%60%29%5B0%5D%3B%0A%20%20%20%20%20%20%20%20%20%20%20%20%20%20%20%20popup_db39a106f53544e79fb0ba86ea6ac302.setContent%28html_6a6573086de549e2b079941c7b5ce078%29%3B%0A%20%20%20%20%20%20%20%20%20%20%20%20%0A%0A%20%20%20%20%20%20%20%20%20%20%20%20circle_d018923dc77e4a23bee49bec0b3ace45.bindPopup%28popup_db39a106f53544e79fb0ba86ea6ac302%29%0A%20%20%20%20%20%20%20%20%20%20%20%20%3B%0A%0A%20%20%20%20%20%20%20%20%20%20%20%20%0A%20%20%20%20%20%20%20%20%0A%20%20%20%20%0A%20%20%20%20%20%20%20%20%20%20%20%20var%20options%20%3D%20%7B%0A%20%20%20%20%20%20%20%20%20%20%20%20%20%20position%3A%20%22topleft%22%2C%0A%20%20%20%20%20%20%20%20%20%20%20%20%20%20draw%3A%20%7B%7D%2C%0A%20%20%20%20%20%20%20%20%20%20%20%20%20%20edit%3A%20%7B%7D%0A%20%20%20%20%20%20%20%20%20%20%20%20%7D%0A%20%20%20%20%20%20%20%20%20%20%20%20//%20FeatureGroup%20is%20to%20store%20editable%20layers.%0A%20%20%20%20%20%20%20%20%20%20%20%20var%20drawnItems%20%3D%20new%20L.featureGroup%28%29.addTo%28map_55ff9f3d8a574fb488e72e8fad69398c%29%3B%0A%20%20%20%20%20%20%20%20%20%20%20%20options.edit.featureGroup%20%3D%20drawnItems%0A%20%20%20%20%20%20%20%20%20%20%20%20var%20draw_control_b54df865ff474124beaf69366c8c8260%20%3D%20new%20L.Control.Draw%28options%29.addTo%28map_55ff9f3d8a574fb488e72e8fad69398c%29%0A%20%20%20%20%20%20%20%20%20%20%20%20map_55ff9f3d8a574fb488e72e8fad69398c.on%28L.Draw.Event.CREATED%2C%20function%20%28event%29%20%7B%0A%20%20%20%20%20%20%20%20%20%20%20%20%20%20var%20layer%20%3D%20event.layer%2C%0A%20%20%20%20%20%20%20%20%20%20%20%20%20%20%20%20%20%20type%20%3D%20event.layerType%2C%0A%20%20%20%20%20%20%20%20%20%20%20%20%20%20%20%20%20%20coords%3B%0A%20%20%20%20%20%20%20%20%20%20%20%20%20%20var%20coords%20%3D%20JSON.stringify%28layer.toGeoJSON%28%29%29%3B%0A%20%20%20%20%20%20%20%20%20%20%20%20%20%20layer.on%28%27click%27%2C%20function%28%29%20%7B%0A%20%20%20%20%20%20%20%20%20%20%20%20%20%20%20%20alert%28coords%29%3B%0A%20%20%20%20%20%20%20%20%20%20%20%20%20%20%20%20console.log%28coords%29%3B%0A%20%20%20%20%20%20%20%20%20%20%20%20%20%20%20%20%7D%29%3B%0A%20%20%20%20%20%20%20%20%20%20%20%20%20%20%20drawnItems.addLayer%28layer%29%3B%0A%20%20%20%20%20%20%20%20%20%20%20%20%20%7D%29%3B%0A%20%20%20%20%20%20%20%20%20%20%20%20map_55ff9f3d8a574fb488e72e8fad69398c.on%28%27draw%3Acreated%27%2C%20function%28e%29%20%7B%0A%20%20%20%20%20%20%20%20%20%20%20%20%20%20%20%20drawnItems.addLayer%28e.layer%29%3B%0A%20%20%20%20%20%20%20%20%20%20%20%20%7D%29%3B%0A%20%20%20%20%20%20%20%20%20%20%20%20document.getElementById%28%27export%27%29.onclick%20%3D%20function%28e%29%20%7B%0A%20%20%20%20%20%20%20%20%20%20%20%20%20%20var%20data%20%3D%20drawnItems.toGeoJSON%28%29%3B%0A%20%20%20%20%20%20%20%20%20%20%20%20%20%20var%20convertedData%20%3D%20%27text/json%3Bcharset%3Dutf-8%2C%27%20%2B%20encodeURIComponent%28JSON.stringify%28data%29%29%3B%0A%20%20%20%20%20%20%20%20%20%20%20%20%20%20document.getElementById%28%27export%27%29.setAttribute%28%27href%27%2C%20%27data%3A%27%20%2B%20convertedData%29%3B%0A%20%20%20%20%20%20%20%20%20%20%20%20%20%20document.getElementById%28%27export%27%29.setAttribute%28%0A%20%20%20%20%20%20%20%20%20%20%20%20%20%20%20%20%27download%27%2C%0A%20%20%20%20%20%20%20%20%20%20%20%20%20%20%20%20%22data.geojson%22%0A%20%20%20%20%20%20%20%20%20%20%20%20%20%20%29%3B%0A%20%20%20%20%20%20%20%20%20%20%20%20%7D%0A%20%20%20%20%20%20%20%20%20%20%20%20%0A%3C/script%3E onload=\"this.contentDocument.open();this.contentDocument.write(    decodeURIComponent(this.getAttribute('data-html')));this.contentDocument.close();\" allowfullscreen webkitallowfullscreen mozallowfullscreen></iframe></div></div>"
            ],
            "text/plain": [
              "<folium.folium.Map at 0x7f2cda6e2350>"
            ]
          },
          "metadata": {
            "tags": []
          },
          "execution_count": 1
        }
      ]
    },
    {
      "cell_type": "code",
      "metadata": {
        "id": "OmN8idIFO0WJ"
      },
      "source": [
        "m.save(\"index.html\")"
      ],
      "execution_count": null,
      "outputs": []
    },
    {
      "cell_type": "code",
      "metadata": {
        "id": "SIG-freYRf69"
      },
      "source": [
        "draw.save(\"index-draw.html\")"
      ],
      "execution_count": null,
      "outputs": []
    },
    {
      "cell_type": "markdown",
      "metadata": {
        "id": "SOEf5wMNQi05"
      },
      "source": [
        "`wczytanie pliku i naniesieni na mapę`"
      ]
    },
    {
      "cell_type": "code",
      "metadata": {
        "colab": {
          "base_uri": "https://localhost:8080/"
        },
        "id": "uvJnfs6MFVzo",
        "outputId": "6d908f85-8719-4915-d97c-a44a4eb0ee51"
      },
      "source": [
        "!gdown --id \"1sqKY43ZbZIAU87OCzaQF1Ab5x6nFKXfw\"  # przykłądowy plik"
      ],
      "execution_count": null,
      "outputs": [
        {
          "output_type": "stream",
          "text": [
            "Downloading...\n",
            "From: https://drive.google.com/uc?id=1sqKY43ZbZIAU87OCzaQF1Ab5x6nFKXfw\n",
            "To: /content/data.geojson\n",
            "\r  0% 0.00/1.38k [00:00<?, ?B/s]\r100% 1.38k/1.38k [00:00<00:00, 2.51MB/s]\n"
          ],
          "name": "stdout"
        }
      ]
    },
    {
      "cell_type": "code",
      "metadata": {
        "id": "uhnji--fLKdi"
      },
      "source": [
        "# from google.colab import files\n",
        "# uploaded = files.upload()"
      ],
      "execution_count": null,
      "outputs": []
    },
    {
      "cell_type": "code",
      "metadata": {
        "colab": {
          "base_uri": "https://localhost:8080/",
          "height": 810
        },
        "id": "GKTYyhqwI6gn",
        "outputId": "161ce48a-d615-4144-dc0d-c0103426a189"
      },
      "source": [
        "import folium\n",
        "\n",
        "m = folium.Map(location=[50.05,19.95],\n",
        "               zoom_start=12,\n",
        "          #  tiles='https://server.arcgisonline.com/arcgis/rest/services/Canvas/World_Dark_Gray_Base/MapServer/tile/{z}/{y}/{x}',\n",
        "           attr='Własny tytuł mapy')\n",
        "\n",
        "\n",
        "g = folium.GeoJson(\n",
        "    \"data.geojson\",\n",
        ").add_to(m)\n",
        "\n",
        "m"
      ],
      "execution_count": null,
      "outputs": [
        {
          "output_type": "execute_result",
          "data": {
            "text/html": [
              "<div style=\"width:100%;\"><div style=\"position:relative;width:100%;height:0;padding-bottom:60%;\"><span style=\"color:#565656\">Make this Notebook Trusted to load map: File -> Trust Notebook</span><iframe src=\"about:blank\" style=\"position:absolute;width:100%;height:100%;left:0;top:0;border:none !important;\" data-html=%3C%21DOCTYPE%20html%3E%0A%3Chead%3E%20%20%20%20%0A%20%20%20%20%3Cmeta%20http-equiv%3D%22content-type%22%20content%3D%22text/html%3B%20charset%3DUTF-8%22%20/%3E%0A%20%20%20%20%3Cscript%3EL_PREFER_CANVAS%3Dfalse%3B%20L_NO_TOUCH%3Dfalse%3B%20L_DISABLE_3D%3Dfalse%3B%3C/script%3E%0A%20%20%20%20%3Cscript%20src%3D%22https%3A//cdn.jsdelivr.net/npm/leaflet%401.4.0/dist/leaflet.js%22%3E%3C/script%3E%0A%20%20%20%20%3Cscript%20src%3D%22https%3A//code.jquery.com/jquery-1.12.4.min.js%22%3E%3C/script%3E%0A%20%20%20%20%3Cscript%20src%3D%22https%3A//maxcdn.bootstrapcdn.com/bootstrap/3.2.0/js/bootstrap.min.js%22%3E%3C/script%3E%0A%20%20%20%20%3Cscript%20src%3D%22https%3A//cdnjs.cloudflare.com/ajax/libs/Leaflet.awesome-markers/2.0.2/leaflet.awesome-markers.js%22%3E%3C/script%3E%0A%20%20%20%20%3Clink%20rel%3D%22stylesheet%22%20href%3D%22https%3A//cdn.jsdelivr.net/npm/leaflet%401.4.0/dist/leaflet.css%22/%3E%0A%20%20%20%20%3Clink%20rel%3D%22stylesheet%22%20href%3D%22https%3A//maxcdn.bootstrapcdn.com/bootstrap/3.2.0/css/bootstrap.min.css%22/%3E%0A%20%20%20%20%3Clink%20rel%3D%22stylesheet%22%20href%3D%22https%3A//maxcdn.bootstrapcdn.com/bootstrap/3.2.0/css/bootstrap-theme.min.css%22/%3E%0A%20%20%20%20%3Clink%20rel%3D%22stylesheet%22%20href%3D%22https%3A//maxcdn.bootstrapcdn.com/font-awesome/4.6.3/css/font-awesome.min.css%22/%3E%0A%20%20%20%20%3Clink%20rel%3D%22stylesheet%22%20href%3D%22https%3A//cdnjs.cloudflare.com/ajax/libs/Leaflet.awesome-markers/2.0.2/leaflet.awesome-markers.css%22/%3E%0A%20%20%20%20%3Clink%20rel%3D%22stylesheet%22%20href%3D%22https%3A//rawcdn.githack.com/python-visualization/folium/master/folium/templates/leaflet.awesome.rotate.css%22/%3E%0A%20%20%20%20%3Cstyle%3Ehtml%2C%20body%20%7Bwidth%3A%20100%25%3Bheight%3A%20100%25%3Bmargin%3A%200%3Bpadding%3A%200%3B%7D%3C/style%3E%0A%20%20%20%20%3Cstyle%3E%23map%20%7Bposition%3Aabsolute%3Btop%3A0%3Bbottom%3A0%3Bright%3A0%3Bleft%3A0%3B%7D%3C/style%3E%0A%20%20%20%20%0A%20%20%20%20%3Cmeta%20name%3D%22viewport%22%20content%3D%22width%3Ddevice-width%2C%0A%20%20%20%20%20%20%20%20initial-scale%3D1.0%2C%20maximum-scale%3D1.0%2C%20user-scalable%3Dno%22%20/%3E%0A%20%20%20%20%3Cstyle%3E%23map_0ffca6916b79418190668d7034b03c3f%20%7B%0A%20%20%20%20%20%20%20%20position%3A%20relative%3B%0A%20%20%20%20%20%20%20%20width%3A%20100.0%25%3B%0A%20%20%20%20%20%20%20%20height%3A%20100.0%25%3B%0A%20%20%20%20%20%20%20%20left%3A%200.0%25%3B%0A%20%20%20%20%20%20%20%20top%3A%200.0%25%3B%0A%20%20%20%20%20%20%20%20%7D%0A%20%20%20%20%3C/style%3E%0A%3C/head%3E%0A%3Cbody%3E%20%20%20%20%0A%20%20%20%20%0A%20%20%20%20%3Cdiv%20class%3D%22folium-map%22%20id%3D%22map_0ffca6916b79418190668d7034b03c3f%22%20%3E%3C/div%3E%0A%3C/body%3E%0A%3Cscript%3E%20%20%20%20%0A%20%20%20%20%0A%20%20%20%20%0A%20%20%20%20%20%20%20%20var%20bounds%20%3D%20null%3B%0A%20%20%20%20%0A%0A%20%20%20%20var%20map_0ffca6916b79418190668d7034b03c3f%20%3D%20L.map%28%0A%20%20%20%20%20%20%20%20%27map_0ffca6916b79418190668d7034b03c3f%27%2C%20%7B%0A%20%20%20%20%20%20%20%20center%3A%20%5B50.05%2C%2019.95%5D%2C%0A%20%20%20%20%20%20%20%20zoom%3A%2012%2C%0A%20%20%20%20%20%20%20%20maxBounds%3A%20bounds%2C%0A%20%20%20%20%20%20%20%20layers%3A%20%5B%5D%2C%0A%20%20%20%20%20%20%20%20worldCopyJump%3A%20false%2C%0A%20%20%20%20%20%20%20%20crs%3A%20L.CRS.EPSG3857%2C%0A%20%20%20%20%20%20%20%20zoomControl%3A%20true%2C%0A%20%20%20%20%20%20%20%20%7D%29%3B%0A%0A%0A%20%20%20%20%0A%20%20%20%20var%20tile_layer_0df626f442da4e0abf4b897a32f089a3%20%3D%20L.tileLayer%28%0A%20%20%20%20%20%20%20%20%27https%3A//%7Bs%7D.tile.openstreetmap.org/%7Bz%7D/%7Bx%7D/%7By%7D.png%27%2C%0A%20%20%20%20%20%20%20%20%7B%0A%20%20%20%20%20%20%20%20%22attribution%22%3A%20%22W%5Cu0142asny%20tytu%5Cu0142%20mapy%22%2C%0A%20%20%20%20%20%20%20%20%22detectRetina%22%3A%20false%2C%0A%20%20%20%20%20%20%20%20%22maxNativeZoom%22%3A%2018%2C%0A%20%20%20%20%20%20%20%20%22maxZoom%22%3A%2018%2C%0A%20%20%20%20%20%20%20%20%22minZoom%22%3A%200%2C%0A%20%20%20%20%20%20%20%20%22noWrap%22%3A%20false%2C%0A%20%20%20%20%20%20%20%20%22opacity%22%3A%201%2C%0A%20%20%20%20%20%20%20%20%22subdomains%22%3A%20%22abc%22%2C%0A%20%20%20%20%20%20%20%20%22tms%22%3A%20false%0A%7D%29.addTo%28map_0ffca6916b79418190668d7034b03c3f%29%3B%0A%20%20%20%20%0A%20%20%20%20%20%20%20%20var%20geo_json_4c5d03bdf5354b8ca0e46eb92412c1c5%20%3D%20L.geoJson%28%0A%20%20%20%20%20%20%20%20%20%20%20%20%7B%22features%22%3A%20%5B%7B%22geometry%22%3A%20%7B%22coordinates%22%3A%20%5B%5B19.807929%2C%2050.085698%5D%2C%20%5B19.8123%2C%2050.060848%5D%2C%20%5B19.806681%2C%2050.044608%5D%2C%20%5B19.83353%2C%2050.016726%5D%2C%20%5B19.850076%2C%2050.010506%5D%2C%20%5B19.856008%2C%2049.996457%5D%2C%20%5B19.911892%2C%2049.991237%5D%2C%20%5B19.936868%2C%2050.001274%5D%2C%20%5B19.987444%2C%2049.999267%5D%2C%20%5B20.036459%2C%2050.006893%5D%2C%20%5B20.049571%2C%2050.006091%5D%2C%20%5B20.062684%2C%2050.012713%5D%2C%20%5B20.067679%2C%2050.036586%5D%2C%20%5B20.075484%2C%2050.062451%5D%2C%20%5B20.062684%2C%2050.074277%5D%2C%20%5B20.06362%2C%2050.088904%5D%2C%20%5B20.029903%2C%2050.09271%5D%2C%20%5B20.01523%2C%2050.093712%5D%2C%20%5B19.999307%2C%2050.088103%5D%2C%20%5B19.967151%2C%2050.085498%5D%2C%20%5B19.950604%2C%2050.0869%5D%2C%20%5B19.925004%2C%2050.093311%5D%2C%20%5B19.888789%2C%2050.087101%5D%2C%20%5B19.862252%2C%2050.102525%5D%2C%20%5B19.836964%2C%2050.10613%5D%2C%20%5B19.807929%2C%2050.087101%5D%5D%2C%20%22type%22%3A%20%22LineString%22%7D%2C%20%22properties%22%3A%20%7B%22highlight%22%3A%20%7B%7D%2C%20%22style%22%3A%20%7B%7D%7D%2C%20%22type%22%3A%20%22Feature%22%7D%2C%20%7B%22geometry%22%3A%20%7B%22coordinates%22%3A%20%5B19.785673%2C%2050.076497%5D%2C%20%22type%22%3A%20%22Point%22%7D%2C%20%22properties%22%3A%20%7B%22highlight%22%3A%20%7B%7D%2C%20%22style%22%3A%20%7B%7D%7D%2C%20%22type%22%3A%20%22Feature%22%7D%2C%20%7B%22geometry%22%3A%20%7B%22coordinates%22%3A%20%5B20.00061%2C%2050.056257%5D%2C%20%22type%22%3A%20%22Point%22%7D%2C%20%22properties%22%3A%20%7B%22highlight%22%3A%20%7B%7D%2C%20%22style%22%3A%20%7B%7D%7D%2C%20%22type%22%3A%20%22Feature%22%7D%2C%20%7B%22geometry%22%3A%20%7B%22coordinates%22%3A%20%5B20.086851%2C%2050.080465%5D%2C%20%22type%22%3A%20%22Point%22%7D%2C%20%22properties%22%3A%20%7B%22highlight%22%3A%20%7B%7D%2C%20%22style%22%3A%20%7B%7D%7D%2C%20%22type%22%3A%20%22Feature%22%7D%2C%20%7B%22geometry%22%3A%20%7B%22coordinates%22%3A%20%5B19.890416%2C%2050.034155%5D%2C%20%22type%22%3A%20%22Point%22%7D%2C%20%22properties%22%3A%20%7B%22highlight%22%3A%20%7B%7D%2C%20%22style%22%3A%20%7B%7D%7D%2C%20%22type%22%3A%20%22Feature%22%7D%2C%20%7B%22geometry%22%3A%20%7B%22coordinates%22%3A%20%5B%5B%5B19.919516%2C%2050.035207%5D%2C%20%5B19.919516%2C%2050.076107%5D%2C%20%5B19.979146%2C%2050.076107%5D%2C%20%5B19.979146%2C%2050.035207%5D%2C%20%5B19.919516%2C%2050.035207%5D%5D%5D%2C%20%22type%22%3A%20%22Polygon%22%7D%2C%20%22properties%22%3A%20%7B%22highlight%22%3A%20%7B%7D%2C%20%22style%22%3A%20%7B%7D%7D%2C%20%22type%22%3A%20%22Feature%22%7D%2C%20%7B%22geometry%22%3A%20%7B%22coordinates%22%3A%20%5B19.865465%2C%2050.061589%5D%2C%20%22type%22%3A%20%22Point%22%7D%2C%20%22properties%22%3A%20%7B%22highlight%22%3A%20%7B%7D%2C%20%22style%22%3A%20%7B%7D%7D%2C%20%22type%22%3A%20%22Feature%22%7D%5D%2C%20%22type%22%3A%20%22FeatureCollection%22%7D%2C%0A%20%20%20%20%20%20%20%20%20%20%20%20%7B%0A%20%20%20%20%20%20%20%20%20%20%20%20%7D%0A%20%20%20%20%20%20%20%20%29.addTo%28map_0ffca6916b79418190668d7034b03c3f%20%29%3B%0A%20%20%20%20%20%20%20%20geo_json_4c5d03bdf5354b8ca0e46eb92412c1c5.setStyle%28function%28feature%29%20%7Breturn%20feature.properties.style%3B%7D%29%3B%0A%20%20%20%20%20%20%20%20%0A%3C/script%3E onload=\"this.contentDocument.open();this.contentDocument.write(    decodeURIComponent(this.getAttribute('data-html')));this.contentDocument.close();\" allowfullscreen webkitallowfullscreen mozallowfullscreen></iframe></div></div>"
            ],
            "text/plain": [
              "<folium.folium.Map at 0x7f2cd9d98710>"
            ]
          },
          "metadata": {
            "tags": []
          },
          "execution_count": 8
        }
      ]
    },
    {
      "cell_type": "markdown",
      "metadata": {
        "id": "AOg3SZ1mZcHX"
      },
      "source": [
        "`wczytanie pliku do dataframe`"
      ]
    },
    {
      "cell_type": "code",
      "metadata": {
        "colab": {
          "base_uri": "https://localhost:8080/"
        },
        "id": "s4mu1OM_MAGw",
        "outputId": "55d07aa3-f7f4-43d1-b0ee-0ab23961e280"
      },
      "source": [
        "!pip -q install geopandas"
      ],
      "execution_count": null,
      "outputs": [
        {
          "output_type": "stream",
          "text": [
            "\u001b[K     |████████████████████████████████| 1.0MB 6.2MB/s \n",
            "\u001b[K     |████████████████████████████████| 6.5MB 36.1MB/s \n",
            "\u001b[K     |████████████████████████████████| 14.8MB 218kB/s \n",
            "\u001b[?25h"
          ],
          "name": "stdout"
        }
      ]
    },
    {
      "cell_type": "code",
      "metadata": {
        "id": "y7MgHhM6MH1N"
      },
      "source": [
        "import geopandas"
      ],
      "execution_count": null,
      "outputs": []
    },
    {
      "cell_type": "code",
      "metadata": {
        "colab": {
          "base_uri": "https://localhost:8080/",
          "height": 258
        },
        "id": "AEP386iIJN1j",
        "outputId": "9e18cbdf-2fd0-4b47-93a1-fef044628805"
      },
      "source": [
        "df = geopandas.read_file(\"data.geojson\")\n",
        "df"
      ],
      "execution_count": null,
      "outputs": [
        {
          "output_type": "execute_result",
          "data": {
            "text/html": [
              "<div>\n",
              "<style scoped>\n",
              "    .dataframe tbody tr th:only-of-type {\n",
              "        vertical-align: middle;\n",
              "    }\n",
              "\n",
              "    .dataframe tbody tr th {\n",
              "        vertical-align: top;\n",
              "    }\n",
              "\n",
              "    .dataframe thead th {\n",
              "        text-align: right;\n",
              "    }\n",
              "</style>\n",
              "<table border=\"1\" class=\"dataframe\">\n",
              "  <thead>\n",
              "    <tr style=\"text-align: right;\">\n",
              "      <th></th>\n",
              "      <th>geometry</th>\n",
              "    </tr>\n",
              "  </thead>\n",
              "  <tbody>\n",
              "    <tr>\n",
              "      <th>0</th>\n",
              "      <td>LINESTRING (19.80793 50.08570, 19.81230 50.060...</td>\n",
              "    </tr>\n",
              "    <tr>\n",
              "      <th>1</th>\n",
              "      <td>POINT (19.78567 50.07650)</td>\n",
              "    </tr>\n",
              "    <tr>\n",
              "      <th>2</th>\n",
              "      <td>POINT (20.00061 50.05626)</td>\n",
              "    </tr>\n",
              "    <tr>\n",
              "      <th>3</th>\n",
              "      <td>POINT (20.08685 50.08046)</td>\n",
              "    </tr>\n",
              "    <tr>\n",
              "      <th>4</th>\n",
              "      <td>POINT (19.89042 50.03415)</td>\n",
              "    </tr>\n",
              "    <tr>\n",
              "      <th>5</th>\n",
              "      <td>POLYGON ((19.91952 50.03521, 19.91952 50.07611...</td>\n",
              "    </tr>\n",
              "    <tr>\n",
              "      <th>6</th>\n",
              "      <td>POINT (19.86547 50.06159)</td>\n",
              "    </tr>\n",
              "  </tbody>\n",
              "</table>\n",
              "</div>"
            ],
            "text/plain": [
              "                                            geometry\n",
              "0  LINESTRING (19.80793 50.08570, 19.81230 50.060...\n",
              "1                          POINT (19.78567 50.07650)\n",
              "2                          POINT (20.00061 50.05626)\n",
              "3                          POINT (20.08685 50.08046)\n",
              "4                          POINT (19.89042 50.03415)\n",
              "5  POLYGON ((19.91952 50.03521, 19.91952 50.07611...\n",
              "6                          POINT (19.86547 50.06159)"
            ]
          },
          "metadata": {
            "tags": []
          },
          "execution_count": 11
        }
      ]
    },
    {
      "cell_type": "code",
      "metadata": {
        "colab": {
          "base_uri": "https://localhost:8080/",
          "height": 810
        },
        "id": "1IIsSKbta3CN",
        "outputId": "81dede58-439c-432e-b7db-3348ea460410"
      },
      "source": [
        "m = folium.Map([50.05,19.95], zoom_start=12,\n",
        "               #tiles=\"cartodbpositron\"\n",
        "               )\n",
        "\n",
        "folium.GeoJson(df).add_to(m)\n",
        "\n",
        "m"
      ],
      "execution_count": null,
      "outputs": [
        {
          "output_type": "execute_result",
          "data": {
            "text/html": [
              "<div style=\"width:100%;\"><div style=\"position:relative;width:100%;height:0;padding-bottom:60%;\"><span style=\"color:#565656\">Make this Notebook Trusted to load map: File -> Trust Notebook</span><iframe src=\"about:blank\" style=\"position:absolute;width:100%;height:100%;left:0;top:0;border:none !important;\" data-html=%3C%21DOCTYPE%20html%3E%0A%3Chead%3E%20%20%20%20%0A%20%20%20%20%3Cmeta%20http-equiv%3D%22content-type%22%20content%3D%22text/html%3B%20charset%3DUTF-8%22%20/%3E%0A%20%20%20%20%3Cscript%3EL_PREFER_CANVAS%3Dfalse%3B%20L_NO_TOUCH%3Dfalse%3B%20L_DISABLE_3D%3Dfalse%3B%3C/script%3E%0A%20%20%20%20%3Cscript%20src%3D%22https%3A//cdn.jsdelivr.net/npm/leaflet%401.4.0/dist/leaflet.js%22%3E%3C/script%3E%0A%20%20%20%20%3Cscript%20src%3D%22https%3A//code.jquery.com/jquery-1.12.4.min.js%22%3E%3C/script%3E%0A%20%20%20%20%3Cscript%20src%3D%22https%3A//maxcdn.bootstrapcdn.com/bootstrap/3.2.0/js/bootstrap.min.js%22%3E%3C/script%3E%0A%20%20%20%20%3Cscript%20src%3D%22https%3A//cdnjs.cloudflare.com/ajax/libs/Leaflet.awesome-markers/2.0.2/leaflet.awesome-markers.js%22%3E%3C/script%3E%0A%20%20%20%20%3Clink%20rel%3D%22stylesheet%22%20href%3D%22https%3A//cdn.jsdelivr.net/npm/leaflet%401.4.0/dist/leaflet.css%22/%3E%0A%20%20%20%20%3Clink%20rel%3D%22stylesheet%22%20href%3D%22https%3A//maxcdn.bootstrapcdn.com/bootstrap/3.2.0/css/bootstrap.min.css%22/%3E%0A%20%20%20%20%3Clink%20rel%3D%22stylesheet%22%20href%3D%22https%3A//maxcdn.bootstrapcdn.com/bootstrap/3.2.0/css/bootstrap-theme.min.css%22/%3E%0A%20%20%20%20%3Clink%20rel%3D%22stylesheet%22%20href%3D%22https%3A//maxcdn.bootstrapcdn.com/font-awesome/4.6.3/css/font-awesome.min.css%22/%3E%0A%20%20%20%20%3Clink%20rel%3D%22stylesheet%22%20href%3D%22https%3A//cdnjs.cloudflare.com/ajax/libs/Leaflet.awesome-markers/2.0.2/leaflet.awesome-markers.css%22/%3E%0A%20%20%20%20%3Clink%20rel%3D%22stylesheet%22%20href%3D%22https%3A//rawcdn.githack.com/python-visualization/folium/master/folium/templates/leaflet.awesome.rotate.css%22/%3E%0A%20%20%20%20%3Cstyle%3Ehtml%2C%20body%20%7Bwidth%3A%20100%25%3Bheight%3A%20100%25%3Bmargin%3A%200%3Bpadding%3A%200%3B%7D%3C/style%3E%0A%20%20%20%20%3Cstyle%3E%23map%20%7Bposition%3Aabsolute%3Btop%3A0%3Bbottom%3A0%3Bright%3A0%3Bleft%3A0%3B%7D%3C/style%3E%0A%20%20%20%20%0A%20%20%20%20%3Cmeta%20name%3D%22viewport%22%20content%3D%22width%3Ddevice-width%2C%0A%20%20%20%20%20%20%20%20initial-scale%3D1.0%2C%20maximum-scale%3D1.0%2C%20user-scalable%3Dno%22%20/%3E%0A%20%20%20%20%3Cstyle%3E%23map_098050d2f0ab4b5096a485656ab63ec2%20%7B%0A%20%20%20%20%20%20%20%20position%3A%20relative%3B%0A%20%20%20%20%20%20%20%20width%3A%20100.0%25%3B%0A%20%20%20%20%20%20%20%20height%3A%20100.0%25%3B%0A%20%20%20%20%20%20%20%20left%3A%200.0%25%3B%0A%20%20%20%20%20%20%20%20top%3A%200.0%25%3B%0A%20%20%20%20%20%20%20%20%7D%0A%20%20%20%20%3C/style%3E%0A%3C/head%3E%0A%3Cbody%3E%20%20%20%20%0A%20%20%20%20%0A%20%20%20%20%3Cdiv%20class%3D%22folium-map%22%20id%3D%22map_098050d2f0ab4b5096a485656ab63ec2%22%20%3E%3C/div%3E%0A%3C/body%3E%0A%3Cscript%3E%20%20%20%20%0A%20%20%20%20%0A%20%20%20%20%0A%20%20%20%20%20%20%20%20var%20bounds%20%3D%20null%3B%0A%20%20%20%20%0A%0A%20%20%20%20var%20map_098050d2f0ab4b5096a485656ab63ec2%20%3D%20L.map%28%0A%20%20%20%20%20%20%20%20%27map_098050d2f0ab4b5096a485656ab63ec2%27%2C%20%7B%0A%20%20%20%20%20%20%20%20center%3A%20%5B50.05%2C%2019.95%5D%2C%0A%20%20%20%20%20%20%20%20zoom%3A%2012%2C%0A%20%20%20%20%20%20%20%20maxBounds%3A%20bounds%2C%0A%20%20%20%20%20%20%20%20layers%3A%20%5B%5D%2C%0A%20%20%20%20%20%20%20%20worldCopyJump%3A%20false%2C%0A%20%20%20%20%20%20%20%20crs%3A%20L.CRS.EPSG3857%2C%0A%20%20%20%20%20%20%20%20zoomControl%3A%20true%2C%0A%20%20%20%20%20%20%20%20%7D%29%3B%0A%0A%0A%20%20%20%20%0A%20%20%20%20var%20tile_layer_1abfa9145dbf4a56970adc0316a6036e%20%3D%20L.tileLayer%28%0A%20%20%20%20%20%20%20%20%27https%3A//%7Bs%7D.tile.openstreetmap.org/%7Bz%7D/%7Bx%7D/%7By%7D.png%27%2C%0A%20%20%20%20%20%20%20%20%7B%0A%20%20%20%20%20%20%20%20%22attribution%22%3A%20null%2C%0A%20%20%20%20%20%20%20%20%22detectRetina%22%3A%20false%2C%0A%20%20%20%20%20%20%20%20%22maxNativeZoom%22%3A%2018%2C%0A%20%20%20%20%20%20%20%20%22maxZoom%22%3A%2018%2C%0A%20%20%20%20%20%20%20%20%22minZoom%22%3A%200%2C%0A%20%20%20%20%20%20%20%20%22noWrap%22%3A%20false%2C%0A%20%20%20%20%20%20%20%20%22opacity%22%3A%201%2C%0A%20%20%20%20%20%20%20%20%22subdomains%22%3A%20%22abc%22%2C%0A%20%20%20%20%20%20%20%20%22tms%22%3A%20false%0A%7D%29.addTo%28map_098050d2f0ab4b5096a485656ab63ec2%29%3B%0A%20%20%20%20%0A%20%20%20%20%20%20%20%20var%20geo_json_5306a732a4564837b382f9b93fdb35b3%20%3D%20L.geoJson%28%0A%20%20%20%20%20%20%20%20%20%20%20%20%7B%22bbox%22%3A%20%5B19.785673%2C%2049.991237%2C%2020.086851%2C%2050.10613%5D%2C%20%22features%22%3A%20%5B%7B%22bbox%22%3A%20%5B19.806681%2C%2049.991237%2C%2020.075484%2C%2050.10613%5D%2C%20%22geometry%22%3A%20%7B%22coordinates%22%3A%20%5B%5B19.807929%2C%2050.085698%5D%2C%20%5B19.8123%2C%2050.060848%5D%2C%20%5B19.806681%2C%2050.044608%5D%2C%20%5B19.83353%2C%2050.016726%5D%2C%20%5B19.850076%2C%2050.010506%5D%2C%20%5B19.856008%2C%2049.996457%5D%2C%20%5B19.911892%2C%2049.991237%5D%2C%20%5B19.936868%2C%2050.001274%5D%2C%20%5B19.987444%2C%2049.999267%5D%2C%20%5B20.036459%2C%2050.006893%5D%2C%20%5B20.049571%2C%2050.006091%5D%2C%20%5B20.062684%2C%2050.012713%5D%2C%20%5B20.067679%2C%2050.036586%5D%2C%20%5B20.075484%2C%2050.062451%5D%2C%20%5B20.062684%2C%2050.074277%5D%2C%20%5B20.06362%2C%2050.088904%5D%2C%20%5B20.029903%2C%2050.09271%5D%2C%20%5B20.01523%2C%2050.093712%5D%2C%20%5B19.999307%2C%2050.088103%5D%2C%20%5B19.967151%2C%2050.085498%5D%2C%20%5B19.950604%2C%2050.0869%5D%2C%20%5B19.925004%2C%2050.093311%5D%2C%20%5B19.888789%2C%2050.087101%5D%2C%20%5B19.862252%2C%2050.102525%5D%2C%20%5B19.836964%2C%2050.10613%5D%2C%20%5B19.807929%2C%2050.087101%5D%5D%2C%20%22type%22%3A%20%22LineString%22%7D%2C%20%22id%22%3A%20%220%22%2C%20%22properties%22%3A%20%7B%22highlight%22%3A%20%7B%7D%2C%20%22style%22%3A%20%7B%7D%7D%2C%20%22type%22%3A%20%22Feature%22%7D%2C%20%7B%22bbox%22%3A%20%5B19.785673%2C%2050.076497%2C%2019.785673%2C%2050.076497%5D%2C%20%22geometry%22%3A%20%7B%22coordinates%22%3A%20%5B19.785673%2C%2050.076497%5D%2C%20%22type%22%3A%20%22Point%22%7D%2C%20%22id%22%3A%20%221%22%2C%20%22properties%22%3A%20%7B%22highlight%22%3A%20%7B%7D%2C%20%22style%22%3A%20%7B%7D%7D%2C%20%22type%22%3A%20%22Feature%22%7D%2C%20%7B%22bbox%22%3A%20%5B20.00061%2C%2050.056257%2C%2020.00061%2C%2050.056257%5D%2C%20%22geometry%22%3A%20%7B%22coordinates%22%3A%20%5B20.00061%2C%2050.056257%5D%2C%20%22type%22%3A%20%22Point%22%7D%2C%20%22id%22%3A%20%222%22%2C%20%22properties%22%3A%20%7B%22highlight%22%3A%20%7B%7D%2C%20%22style%22%3A%20%7B%7D%7D%2C%20%22type%22%3A%20%22Feature%22%7D%2C%20%7B%22bbox%22%3A%20%5B20.086851%2C%2050.080465%2C%2020.086851%2C%2050.080465%5D%2C%20%22geometry%22%3A%20%7B%22coordinates%22%3A%20%5B20.086851%2C%2050.080465%5D%2C%20%22type%22%3A%20%22Point%22%7D%2C%20%22id%22%3A%20%223%22%2C%20%22properties%22%3A%20%7B%22highlight%22%3A%20%7B%7D%2C%20%22style%22%3A%20%7B%7D%7D%2C%20%22type%22%3A%20%22Feature%22%7D%2C%20%7B%22bbox%22%3A%20%5B19.890416%2C%2050.034155%2C%2019.890416%2C%2050.034155%5D%2C%20%22geometry%22%3A%20%7B%22coordinates%22%3A%20%5B19.890416%2C%2050.034155%5D%2C%20%22type%22%3A%20%22Point%22%7D%2C%20%22id%22%3A%20%224%22%2C%20%22properties%22%3A%20%7B%22highlight%22%3A%20%7B%7D%2C%20%22style%22%3A%20%7B%7D%7D%2C%20%22type%22%3A%20%22Feature%22%7D%2C%20%7B%22bbox%22%3A%20%5B19.919516%2C%2050.035207%2C%2019.979146%2C%2050.076107%5D%2C%20%22geometry%22%3A%20%7B%22coordinates%22%3A%20%5B%5B%5B19.919516%2C%2050.035207%5D%2C%20%5B19.919516%2C%2050.076107%5D%2C%20%5B19.979146%2C%2050.076107%5D%2C%20%5B19.979146%2C%2050.035207%5D%2C%20%5B19.919516%2C%2050.035207%5D%5D%5D%2C%20%22type%22%3A%20%22Polygon%22%7D%2C%20%22id%22%3A%20%225%22%2C%20%22properties%22%3A%20%7B%22highlight%22%3A%20%7B%7D%2C%20%22style%22%3A%20%7B%7D%7D%2C%20%22type%22%3A%20%22Feature%22%7D%2C%20%7B%22bbox%22%3A%20%5B19.865465%2C%2050.061589%2C%2019.865465%2C%2050.061589%5D%2C%20%22geometry%22%3A%20%7B%22coordinates%22%3A%20%5B19.865465%2C%2050.061589%5D%2C%20%22type%22%3A%20%22Point%22%7D%2C%20%22id%22%3A%20%226%22%2C%20%22properties%22%3A%20%7B%22highlight%22%3A%20%7B%7D%2C%20%22style%22%3A%20%7B%7D%7D%2C%20%22type%22%3A%20%22Feature%22%7D%5D%2C%20%22type%22%3A%20%22FeatureCollection%22%7D%2C%0A%20%20%20%20%20%20%20%20%20%20%20%20%7B%0A%20%20%20%20%20%20%20%20%20%20%20%20%7D%0A%20%20%20%20%20%20%20%20%29.addTo%28map_098050d2f0ab4b5096a485656ab63ec2%20%29%3B%0A%20%20%20%20%20%20%20%20geo_json_5306a732a4564837b382f9b93fdb35b3.setStyle%28function%28feature%29%20%7Breturn%20feature.properties.style%3B%7D%29%3B%0A%20%20%20%20%20%20%20%20%0A%3C/script%3E onload=\"this.contentDocument.open();this.contentDocument.write(    decodeURIComponent(this.getAttribute('data-html')));this.contentDocument.close();\" allowfullscreen webkitallowfullscreen mozallowfullscreen></iframe></div></div>"
            ],
            "text/plain": [
              "<folium.folium.Map at 0x7f2cd1606850>"
            ]
          },
          "metadata": {
            "tags": []
          },
          "execution_count": 17
        }
      ]
    },
    {
      "cell_type": "code",
      "metadata": {
        "id": "MlP_rJg4bVFC"
      },
      "source": [
        "m.save(\"index.html\")"
      ],
      "execution_count": null,
      "outputs": []
    },
    {
      "cell_type": "code",
      "metadata": {
        "id": "cGnFI3uT5tXi"
      },
      "source": [
        ""
      ],
      "execution_count": null,
      "outputs": []
    },
    {
      "cell_type": "markdown",
      "metadata": {
        "id": "NdwE7nA05wFn"
      },
      "source": [
        "`AUTO ZOOM`"
      ]
    },
    {
      "cell_type": "code",
      "metadata": {
        "id": "ZelQYYG67bVK",
        "colab": {
          "base_uri": "https://localhost:8080/"
        },
        "outputId": "6467cd6b-4af1-49be-dcd9-419a921df3cc"
      },
      "source": [
        "print(df.to_markdown())"
      ],
      "execution_count": null,
      "outputs": [
        {
          "output_type": "stream",
          "text": [
            "|    | geometry                                                                                                                                                                                                                                                                                                                                                                                                                                                                                                                                                             |\n",
            "|---:|:---------------------------------------------------------------------------------------------------------------------------------------------------------------------------------------------------------------------------------------------------------------------------------------------------------------------------------------------------------------------------------------------------------------------------------------------------------------------------------------------------------------------------------------------------------------------|\n",
            "|  0 | LINESTRING (19.807929 50.085698, 19.8123 50.060848, 19.806681 50.044608, 19.83353 50.016726, 19.850076 50.010506, 19.856008 49.996457, 19.911892 49.991237, 19.936868 50.001274, 19.987444 49.999267, 20.036459 50.006893, 20.049571 50.006091, 20.062684 50.012713, 20.067679 50.036586, 20.075484 50.062451, 20.062684 50.074277, 20.06362 50.088904, 20.029903 50.09271, 20.01523 50.093712, 19.999307 50.088103, 19.967151 50.085498, 19.950604 50.0869, 19.925004 50.093311, 19.888789 50.087101, 19.862252 50.102525, 19.836964 50.10613, 19.807929 50.087101) |\n",
            "|  1 | POINT (19.785673 50.076497)                                                                                                                                                                                                                                                                                                                                                                                                                                                                                                                                          |\n",
            "|  2 | POINT (20.00061 50.056257)                                                                                                                                                                                                                                                                                                                                                                                                                                                                                                                                           |\n",
            "|  3 | POINT (20.086851 50.080465)                                                                                                                                                                                                                                                                                                                                                                                                                                                                                                                                          |\n",
            "|  4 | POINT (19.890416 50.034155)                                                                                                                                                                                                                                                                                                                                                                                                                                                                                                                                          |\n",
            "|  5 | POLYGON ((19.919516 50.035207, 19.919516 50.076107, 19.979146 50.076107, 19.979146 50.035207, 19.919516 50.035207))                                                                                                                                                                                                                                                                                                                                                                                                                                                  |\n",
            "|  6 | POINT (19.865465 50.061589)                                                                                                                                                                                                                                                                                                                                                                                                                                                                                                                                          |\n"
          ],
          "name": "stdout"
        }
      ]
    },
    {
      "cell_type": "code",
      "metadata": {
        "id": "BXUcik8qLdfI",
        "colab": {
          "base_uri": "https://localhost:8080/",
          "height": 78
        },
        "outputId": "b04e56fe-1c55-464c-f3c4-f79fc86ad5a9"
      },
      "source": [
        "#zamiana POLYGON  i LINESTRING na point żeby obliczyć najbardziej skrajne koordynaty\n",
        "from shapely.geometry import Point\n",
        "\n",
        "nodes = geopandas.GeoDataFrame(columns=[\"geometry\"])\n",
        "\n",
        "for i in df.index.to_list():\n",
        "  if df['geometry'].iloc[i].geom_type=='Polygon':\n",
        "    for j in df.iloc[i][\"geometry\"].exterior.coords:\n",
        "      nodes = nodes.append({'geometry': Point(j) },ignore_index=True)\n",
        "\n",
        "  elif df['geometry'].iloc[i].geom_type=='LineString':\n",
        "    for j in df.iloc[i][\"geometry\"].coords:\n",
        "      nodes = nodes.append({'geometry': Point(j) },ignore_index=True)\n",
        "\n",
        "  elif df['geometry'].iloc[i].geom_type=='Point':\n",
        "    nodes = nodes.append({'geometry': df['geometry'].iloc[i] },ignore_index=True)\n",
        "\n",
        "#podgląd losowego indexu\n",
        "nodes.sample()"
      ],
      "execution_count": null,
      "outputs": [
        {
          "output_type": "execute_result",
          "data": {
            "text/html": [
              "<div>\n",
              "<style scoped>\n",
              "    .dataframe tbody tr th:only-of-type {\n",
              "        vertical-align: middle;\n",
              "    }\n",
              "\n",
              "    .dataframe tbody tr th {\n",
              "        vertical-align: top;\n",
              "    }\n",
              "\n",
              "    .dataframe thead th {\n",
              "        text-align: right;\n",
              "    }\n",
              "</style>\n",
              "<table border=\"1\" class=\"dataframe\">\n",
              "  <thead>\n",
              "    <tr style=\"text-align: right;\">\n",
              "      <th></th>\n",
              "      <th>geometry</th>\n",
              "    </tr>\n",
              "  </thead>\n",
              "  <tbody>\n",
              "    <tr>\n",
              "      <th>1</th>\n",
              "      <td>POINT (19.81230 50.06085)</td>\n",
              "    </tr>\n",
              "  </tbody>\n",
              "</table>\n",
              "</div>"
            ],
            "text/plain": [
              "                    geometry\n",
              "1  POINT (19.81230 50.06085)"
            ]
          },
          "metadata": {
            "tags": []
          },
          "execution_count": 201
        }
      ]
    },
    {
      "cell_type": "code",
      "metadata": {
        "id": "EZNuFvdK5tSn",
        "colab": {
          "base_uri": "https://localhost:8080/",
          "height": 810
        },
        "outputId": "fe98eb13-1022-4d7d-fc1a-9db7e020ddee"
      },
      "source": [
        "m = folium.Map(location=[nodes[\"geometry\"].y.mean() , nodes[\"geometry\"].x.mean()], \n",
        "               tiles=\"cartodbpositron\"\n",
        "               )\n",
        "\n",
        "folium.GeoJson(df).add_to(m)\n",
        "\n",
        "\n",
        "x_min = nodes[\"geometry\"].x.min()\n",
        "x_max = nodes[\"geometry\"].x.max()\n",
        "y_min = nodes[\"geometry\"].y.min()\n",
        "y_max = nodes[\"geometry\"].y.max()\n",
        "\n",
        "# szukanie lewego górnego rogu i dolnego prawego\n",
        "m.fit_bounds([[y_max , x_min], [y_min , x_max]]) \n",
        "\n",
        "m"
      ],
      "execution_count": null,
      "outputs": [
        {
          "output_type": "execute_result",
          "data": {
            "text/html": [
              "<div style=\"width:100%;\"><div style=\"position:relative;width:100%;height:0;padding-bottom:60%;\"><span style=\"color:#565656\">Make this Notebook Trusted to load map: File -> Trust Notebook</span><iframe src=\"about:blank\" style=\"position:absolute;width:100%;height:100%;left:0;top:0;border:none !important;\" data-html=%3C%21DOCTYPE%20html%3E%0A%3Chead%3E%20%20%20%20%0A%20%20%20%20%3Cmeta%20http-equiv%3D%22content-type%22%20content%3D%22text/html%3B%20charset%3DUTF-8%22%20/%3E%0A%20%20%20%20%3Cscript%3EL_PREFER_CANVAS%3Dfalse%3B%20L_NO_TOUCH%3Dfalse%3B%20L_DISABLE_3D%3Dfalse%3B%3C/script%3E%0A%20%20%20%20%3Cscript%20src%3D%22https%3A//cdn.jsdelivr.net/npm/leaflet%401.4.0/dist/leaflet.js%22%3E%3C/script%3E%0A%20%20%20%20%3Cscript%20src%3D%22https%3A//code.jquery.com/jquery-1.12.4.min.js%22%3E%3C/script%3E%0A%20%20%20%20%3Cscript%20src%3D%22https%3A//maxcdn.bootstrapcdn.com/bootstrap/3.2.0/js/bootstrap.min.js%22%3E%3C/script%3E%0A%20%20%20%20%3Cscript%20src%3D%22https%3A//cdnjs.cloudflare.com/ajax/libs/Leaflet.awesome-markers/2.0.2/leaflet.awesome-markers.js%22%3E%3C/script%3E%0A%20%20%20%20%3Clink%20rel%3D%22stylesheet%22%20href%3D%22https%3A//cdn.jsdelivr.net/npm/leaflet%401.4.0/dist/leaflet.css%22/%3E%0A%20%20%20%20%3Clink%20rel%3D%22stylesheet%22%20href%3D%22https%3A//maxcdn.bootstrapcdn.com/bootstrap/3.2.0/css/bootstrap.min.css%22/%3E%0A%20%20%20%20%3Clink%20rel%3D%22stylesheet%22%20href%3D%22https%3A//maxcdn.bootstrapcdn.com/bootstrap/3.2.0/css/bootstrap-theme.min.css%22/%3E%0A%20%20%20%20%3Clink%20rel%3D%22stylesheet%22%20href%3D%22https%3A//maxcdn.bootstrapcdn.com/font-awesome/4.6.3/css/font-awesome.min.css%22/%3E%0A%20%20%20%20%3Clink%20rel%3D%22stylesheet%22%20href%3D%22https%3A//cdnjs.cloudflare.com/ajax/libs/Leaflet.awesome-markers/2.0.2/leaflet.awesome-markers.css%22/%3E%0A%20%20%20%20%3Clink%20rel%3D%22stylesheet%22%20href%3D%22https%3A//rawcdn.githack.com/python-visualization/folium/master/folium/templates/leaflet.awesome.rotate.css%22/%3E%0A%20%20%20%20%3Cstyle%3Ehtml%2C%20body%20%7Bwidth%3A%20100%25%3Bheight%3A%20100%25%3Bmargin%3A%200%3Bpadding%3A%200%3B%7D%3C/style%3E%0A%20%20%20%20%3Cstyle%3E%23map%20%7Bposition%3Aabsolute%3Btop%3A0%3Bbottom%3A0%3Bright%3A0%3Bleft%3A0%3B%7D%3C/style%3E%0A%20%20%20%20%0A%20%20%20%20%3Cmeta%20name%3D%22viewport%22%20content%3D%22width%3Ddevice-width%2C%0A%20%20%20%20%20%20%20%20initial-scale%3D1.0%2C%20maximum-scale%3D1.0%2C%20user-scalable%3Dno%22%20/%3E%0A%20%20%20%20%3Cstyle%3E%23map_beb0d88ba9644651b243c346f63df8fa%20%7B%0A%20%20%20%20%20%20%20%20position%3A%20relative%3B%0A%20%20%20%20%20%20%20%20width%3A%20100.0%25%3B%0A%20%20%20%20%20%20%20%20height%3A%20100.0%25%3B%0A%20%20%20%20%20%20%20%20left%3A%200.0%25%3B%0A%20%20%20%20%20%20%20%20top%3A%200.0%25%3B%0A%20%20%20%20%20%20%20%20%7D%0A%20%20%20%20%3C/style%3E%0A%3C/head%3E%0A%3Cbody%3E%20%20%20%20%0A%20%20%20%20%0A%20%20%20%20%3Cdiv%20class%3D%22folium-map%22%20id%3D%22map_beb0d88ba9644651b243c346f63df8fa%22%20%3E%3C/div%3E%0A%3C/body%3E%0A%3Cscript%3E%20%20%20%20%0A%20%20%20%20%0A%20%20%20%20%0A%20%20%20%20%20%20%20%20var%20bounds%20%3D%20null%3B%0A%20%20%20%20%0A%0A%20%20%20%20var%20map_beb0d88ba9644651b243c346f63df8fa%20%3D%20L.map%28%0A%20%20%20%20%20%20%20%20%27map_beb0d88ba9644651b243c346f63df8fa%27%2C%20%7B%0A%20%20%20%20%20%20%20%20center%3A%20%5B50.05512291666667%2C%2019.94027491666667%5D%2C%0A%20%20%20%20%20%20%20%20zoom%3A%2010%2C%0A%20%20%20%20%20%20%20%20maxBounds%3A%20bounds%2C%0A%20%20%20%20%20%20%20%20layers%3A%20%5B%5D%2C%0A%20%20%20%20%20%20%20%20worldCopyJump%3A%20false%2C%0A%20%20%20%20%20%20%20%20crs%3A%20L.CRS.EPSG3857%2C%0A%20%20%20%20%20%20%20%20zoomControl%3A%20true%2C%0A%20%20%20%20%20%20%20%20%7D%29%3B%0A%0A%0A%20%20%20%20%0A%20%20%20%20var%20tile_layer_a5e930688ec348008475e35fcbe11c3d%20%3D%20L.tileLayer%28%0A%20%20%20%20%20%20%20%20%27https%3A//cartodb-basemaps-%7Bs%7D.global.ssl.fastly.net/light_all/%7Bz%7D/%7Bx%7D/%7By%7D.png%27%2C%0A%20%20%20%20%20%20%20%20%7B%0A%20%20%20%20%20%20%20%20%22attribution%22%3A%20null%2C%0A%20%20%20%20%20%20%20%20%22detectRetina%22%3A%20false%2C%0A%20%20%20%20%20%20%20%20%22maxNativeZoom%22%3A%2018%2C%0A%20%20%20%20%20%20%20%20%22maxZoom%22%3A%2018%2C%0A%20%20%20%20%20%20%20%20%22minZoom%22%3A%200%2C%0A%20%20%20%20%20%20%20%20%22noWrap%22%3A%20false%2C%0A%20%20%20%20%20%20%20%20%22opacity%22%3A%201%2C%0A%20%20%20%20%20%20%20%20%22subdomains%22%3A%20%22abc%22%2C%0A%20%20%20%20%20%20%20%20%22tms%22%3A%20false%0A%7D%29.addTo%28map_beb0d88ba9644651b243c346f63df8fa%29%3B%0A%20%20%20%20%0A%20%20%20%20%20%20%20%20var%20geo_json_78b523442e78498490ade30c40cbc7a3%20%3D%20L.geoJson%28%0A%20%20%20%20%20%20%20%20%20%20%20%20%7B%22bbox%22%3A%20%5B19.785673%2C%2049.991237%2C%2020.086851%2C%2050.10613%5D%2C%20%22features%22%3A%20%5B%7B%22bbox%22%3A%20%5B19.806681%2C%2049.991237%2C%2020.075484%2C%2050.10613%5D%2C%20%22geometry%22%3A%20%7B%22coordinates%22%3A%20%5B%5B19.807929%2C%2050.085698%5D%2C%20%5B19.8123%2C%2050.060848%5D%2C%20%5B19.806681%2C%2050.044608%5D%2C%20%5B19.83353%2C%2050.016726%5D%2C%20%5B19.850076%2C%2050.010506%5D%2C%20%5B19.856008%2C%2049.996457%5D%2C%20%5B19.911892%2C%2049.991237%5D%2C%20%5B19.936868%2C%2050.001274%5D%2C%20%5B19.987444%2C%2049.999267%5D%2C%20%5B20.036459%2C%2050.006893%5D%2C%20%5B20.049571%2C%2050.006091%5D%2C%20%5B20.062684%2C%2050.012713%5D%2C%20%5B20.067679%2C%2050.036586%5D%2C%20%5B20.075484%2C%2050.062451%5D%2C%20%5B20.062684%2C%2050.074277%5D%2C%20%5B20.06362%2C%2050.088904%5D%2C%20%5B20.029903%2C%2050.09271%5D%2C%20%5B20.01523%2C%2050.093712%5D%2C%20%5B19.999307%2C%2050.088103%5D%2C%20%5B19.967151%2C%2050.085498%5D%2C%20%5B19.950604%2C%2050.0869%5D%2C%20%5B19.925004%2C%2050.093311%5D%2C%20%5B19.888789%2C%2050.087101%5D%2C%20%5B19.862252%2C%2050.102525%5D%2C%20%5B19.836964%2C%2050.10613%5D%2C%20%5B19.807929%2C%2050.087101%5D%5D%2C%20%22type%22%3A%20%22LineString%22%7D%2C%20%22id%22%3A%20%220%22%2C%20%22properties%22%3A%20%7B%22highlight%22%3A%20%7B%7D%2C%20%22style%22%3A%20%7B%7D%7D%2C%20%22type%22%3A%20%22Feature%22%7D%2C%20%7B%22bbox%22%3A%20%5B19.785673%2C%2050.076497%2C%2019.785673%2C%2050.076497%5D%2C%20%22geometry%22%3A%20%7B%22coordinates%22%3A%20%5B19.785673%2C%2050.076497%5D%2C%20%22type%22%3A%20%22Point%22%7D%2C%20%22id%22%3A%20%221%22%2C%20%22properties%22%3A%20%7B%22highlight%22%3A%20%7B%7D%2C%20%22style%22%3A%20%7B%7D%7D%2C%20%22type%22%3A%20%22Feature%22%7D%2C%20%7B%22bbox%22%3A%20%5B20.00061%2C%2050.056257%2C%2020.00061%2C%2050.056257%5D%2C%20%22geometry%22%3A%20%7B%22coordinates%22%3A%20%5B20.00061%2C%2050.056257%5D%2C%20%22type%22%3A%20%22Point%22%7D%2C%20%22id%22%3A%20%222%22%2C%20%22properties%22%3A%20%7B%22highlight%22%3A%20%7B%7D%2C%20%22style%22%3A%20%7B%7D%7D%2C%20%22type%22%3A%20%22Feature%22%7D%2C%20%7B%22bbox%22%3A%20%5B20.086851%2C%2050.080465%2C%2020.086851%2C%2050.080465%5D%2C%20%22geometry%22%3A%20%7B%22coordinates%22%3A%20%5B20.086851%2C%2050.080465%5D%2C%20%22type%22%3A%20%22Point%22%7D%2C%20%22id%22%3A%20%223%22%2C%20%22properties%22%3A%20%7B%22highlight%22%3A%20%7B%7D%2C%20%22style%22%3A%20%7B%7D%7D%2C%20%22type%22%3A%20%22Feature%22%7D%2C%20%7B%22bbox%22%3A%20%5B19.890416%2C%2050.034155%2C%2019.890416%2C%2050.034155%5D%2C%20%22geometry%22%3A%20%7B%22coordinates%22%3A%20%5B19.890416%2C%2050.034155%5D%2C%20%22type%22%3A%20%22Point%22%7D%2C%20%22id%22%3A%20%224%22%2C%20%22properties%22%3A%20%7B%22highlight%22%3A%20%7B%7D%2C%20%22style%22%3A%20%7B%7D%7D%2C%20%22type%22%3A%20%22Feature%22%7D%2C%20%7B%22bbox%22%3A%20%5B19.919516%2C%2050.035207%2C%2019.979146%2C%2050.076107%5D%2C%20%22geometry%22%3A%20%7B%22coordinates%22%3A%20%5B%5B%5B19.919516%2C%2050.035207%5D%2C%20%5B19.919516%2C%2050.076107%5D%2C%20%5B19.979146%2C%2050.076107%5D%2C%20%5B19.979146%2C%2050.035207%5D%2C%20%5B19.919516%2C%2050.035207%5D%5D%5D%2C%20%22type%22%3A%20%22Polygon%22%7D%2C%20%22id%22%3A%20%225%22%2C%20%22properties%22%3A%20%7B%22highlight%22%3A%20%7B%7D%2C%20%22style%22%3A%20%7B%7D%7D%2C%20%22type%22%3A%20%22Feature%22%7D%2C%20%7B%22bbox%22%3A%20%5B19.865465%2C%2050.061589%2C%2019.865465%2C%2050.061589%5D%2C%20%22geometry%22%3A%20%7B%22coordinates%22%3A%20%5B19.865465%2C%2050.061589%5D%2C%20%22type%22%3A%20%22Point%22%7D%2C%20%22id%22%3A%20%226%22%2C%20%22properties%22%3A%20%7B%22highlight%22%3A%20%7B%7D%2C%20%22style%22%3A%20%7B%7D%7D%2C%20%22type%22%3A%20%22Feature%22%7D%5D%2C%20%22type%22%3A%20%22FeatureCollection%22%7D%2C%0A%20%20%20%20%20%20%20%20%20%20%20%20%7B%0A%20%20%20%20%20%20%20%20%20%20%20%20%7D%0A%20%20%20%20%20%20%20%20%29.addTo%28map_beb0d88ba9644651b243c346f63df8fa%20%29%3B%0A%20%20%20%20%20%20%20%20geo_json_78b523442e78498490ade30c40cbc7a3.setStyle%28function%28feature%29%20%7Breturn%20feature.properties.style%3B%7D%29%3B%0A%20%20%20%20%20%20%20%20%0A%20%20%20%20%0A%20%20%20%20%20%20%20%20%20%20%20%20%20%20%20%20%0A%0A%20%20%20%20%20%20%20%20%20%20%20%20%20%20%20%20map_beb0d88ba9644651b243c346f63df8fa.fitBounds%28%0A%20%20%20%20%20%20%20%20%20%20%20%20%20%20%20%20%20%20%20%20%5B%5B50.10613%2C%2019.785673%5D%2C%20%5B49.991237%2C%2020.086851%5D%5D%2C%0A%20%20%20%20%20%20%20%20%20%20%20%20%20%20%20%20%20%20%20%20%7B%7D%0A%20%20%20%20%20%20%20%20%20%20%20%20%20%20%20%20%20%20%20%20%29%3B%0A%20%20%20%20%20%20%20%20%20%20%20%20%0A%3C/script%3E onload=\"this.contentDocument.open();this.contentDocument.write(    decodeURIComponent(this.getAttribute('data-html')));this.contentDocument.close();\" allowfullscreen webkitallowfullscreen mozallowfullscreen></iframe></div></div>"
            ],
            "text/plain": [
              "<folium.folium.Map at 0x7f2ccd358e50>"
            ]
          },
          "metadata": {
            "tags": []
          },
          "execution_count": 203
        }
      ]
    },
    {
      "cell_type": "code",
      "metadata": {
        "id": "PUjPDTgP5tKj"
      },
      "source": [
        ""
      ],
      "execution_count": null,
      "outputs": []
    },
    {
      "cell_type": "markdown",
      "metadata": {
        "id": "OGrxvyp1X5kz"
      },
      "source": [
        "`DualMap`"
      ]
    },
    {
      "cell_type": "code",
      "metadata": {
        "id": "WxiMNvRWYyAB"
      },
      "source": [
        "import folium.plugins"
      ],
      "execution_count": null,
      "outputs": []
    },
    {
      "cell_type": "code",
      "metadata": {
        "id": "-L0pb2arNJtP"
      },
      "source": [
        "m = folium.plugins.DualMap(location=(50.05,19.95), tiles=None, zoom_start=12)\n",
        "\n",
        "folium.TileLayer(\"openstreetmap\").add_to(m.m1)\n",
        "folium.TileLayer(\"cartodbpositron\").add_to(m.m2)\n",
        "\n",
        "folium.GeoJson(df).add_to(m.m1)\n",
        "folium.GeoJson(df).add_to(m.m2)\n",
        "\n",
        "folium.LayerControl(collapsed=False).add_to(m)\n",
        "\n",
        "m"
      ],
      "execution_count": null,
      "outputs": []
    },
    {
      "cell_type": "code",
      "metadata": {
        "id": "yEoGDGdzZF_g"
      },
      "source": [
        "m.save('map.html')"
      ],
      "execution_count": null,
      "outputs": []
    },
    {
      "cell_type": "markdown",
      "metadata": {
        "id": "0Fqq_slp6jNY"
      },
      "source": [
        "`create Point from columns (Lat\tLon)  dataframe `"
      ]
    },
    {
      "cell_type": "code",
      "metadata": {
        "colab": {
          "base_uri": "https://localhost:8080/"
        },
        "id": "N65_TRH06yWh",
        "outputId": "b976a1c1-1ed4-4151-fe9b-716393de6c50"
      },
      "source": [
        "!pip -q install geopandas"
      ],
      "execution_count": 3,
      "outputs": [
        {
          "output_type": "stream",
          "text": [
            "\u001b[K     |████████████████████████████████| 1.0MB 11.6MB/s \n",
            "\u001b[K     |████████████████████████████████| 14.8MB 287kB/s \n",
            "\u001b[K     |████████████████████████████████| 6.5MB 55.7MB/s \n",
            "\u001b[?25h"
          ],
          "name": "stdout"
        }
      ]
    },
    {
      "cell_type": "code",
      "metadata": {
        "id": "ZY9VKFO36yWi"
      },
      "source": [
        "import geopandas\n",
        "import pandas as pd"
      ],
      "execution_count": 4,
      "outputs": []
    },
    {
      "cell_type": "code",
      "metadata": {
        "id": "7D9C6bfq60oI",
        "outputId": "667f55af-4f5b-458c-ec95-f9e127ea5d8e",
        "colab": {
          "base_uri": "https://localhost:8080/",
          "height": 108
        }
      },
      "source": [
        "df = pd.DataFrame({'Lat': {0: 51.97430555559714,\n",
        "  1: 51.998750000041596,\n",
        "  2: 51.74958333337473,\n",
        "  3: 51.64208333337464,\n",
        "  4: 52.05097222226386,\n",
        "  5: 51.804305555597,\n",
        "  6: 51.80375000004144,\n",
        "  7: 51.78208333337476,\n",
        "  8: 51.67847222226357,\n",
        "  9: 51.61902777781907},\n",
        " 'Lon': {0: 22.4115277777957,\n",
        "  1: 22.40986111112904,\n",
        "  2: 22.40319444446236,\n",
        "  3: 22.420416666684602,\n",
        "  4: 22.45263888890685,\n",
        "  5: 22.450694444462403,\n",
        "  6: 22.45041666668462,\n",
        "  7: 22.452083333351293,\n",
        "  8: 22.472083333351307,\n",
        "  9: 22.469027777795752},\n",
        " 'Population': {0: 1.1497080299747129,\n",
        "  1: 1.1497080299747129,\n",
        "  2: 0.9836909145260389,\n",
        "  3: 1.3843517013368698,\n",
        "  4: 0.7502022877194049,\n",
        "  5: 1.2838597540195849,\n",
        "  6: 1.2838597540195849,\n",
        "  7: 1.0699048508446118,\n",
        "  8: 1.3843517013368698,\n",
        "  9: 1.1275530278589474}}\n",
        "  )\n",
        "\n",
        "df[:2]"
      ],
      "execution_count": 18,
      "outputs": [
        {
          "output_type": "execute_result",
          "data": {
            "text/html": [
              "<div>\n",
              "<style scoped>\n",
              "    .dataframe tbody tr th:only-of-type {\n",
              "        vertical-align: middle;\n",
              "    }\n",
              "\n",
              "    .dataframe tbody tr th {\n",
              "        vertical-align: top;\n",
              "    }\n",
              "\n",
              "    .dataframe thead th {\n",
              "        text-align: right;\n",
              "    }\n",
              "</style>\n",
              "<table border=\"1\" class=\"dataframe\">\n",
              "  <thead>\n",
              "    <tr style=\"text-align: right;\">\n",
              "      <th></th>\n",
              "      <th>Lat</th>\n",
              "      <th>Lon</th>\n",
              "      <th>Population</th>\n",
              "    </tr>\n",
              "  </thead>\n",
              "  <tbody>\n",
              "    <tr>\n",
              "      <th>0</th>\n",
              "      <td>51.974306</td>\n",
              "      <td>22.411528</td>\n",
              "      <td>1.149708</td>\n",
              "    </tr>\n",
              "    <tr>\n",
              "      <th>1</th>\n",
              "      <td>51.998750</td>\n",
              "      <td>22.409861</td>\n",
              "      <td>1.149708</td>\n",
              "    </tr>\n",
              "  </tbody>\n",
              "</table>\n",
              "</div>"
            ],
            "text/plain": [
              "         Lat        Lon  Population\n",
              "0  51.974306  22.411528    1.149708\n",
              "1  51.998750  22.409861    1.149708"
            ]
          },
          "metadata": {
            "tags": []
          },
          "execution_count": 18
        }
      ]
    },
    {
      "cell_type": "code",
      "metadata": {
        "id": "yyuG_hhQ70xJ",
        "outputId": "b97343a8-d4e7-4756-976f-73cae2d4b862",
        "colab": {
          "base_uri": "https://localhost:8080/",
          "height": 108
        }
      },
      "source": [
        "geodf = geopandas.GeoDataFrame(df)\n",
        "geodf[:2]"
      ],
      "execution_count": 19,
      "outputs": [
        {
          "output_type": "execute_result",
          "data": {
            "text/html": [
              "<div>\n",
              "<style scoped>\n",
              "    .dataframe tbody tr th:only-of-type {\n",
              "        vertical-align: middle;\n",
              "    }\n",
              "\n",
              "    .dataframe tbody tr th {\n",
              "        vertical-align: top;\n",
              "    }\n",
              "\n",
              "    .dataframe thead th {\n",
              "        text-align: right;\n",
              "    }\n",
              "</style>\n",
              "<table border=\"1\" class=\"dataframe\">\n",
              "  <thead>\n",
              "    <tr style=\"text-align: right;\">\n",
              "      <th></th>\n",
              "      <th>Lat</th>\n",
              "      <th>Lon</th>\n",
              "      <th>Population</th>\n",
              "    </tr>\n",
              "  </thead>\n",
              "  <tbody>\n",
              "    <tr>\n",
              "      <th>0</th>\n",
              "      <td>51.974306</td>\n",
              "      <td>22.411528</td>\n",
              "      <td>1.149708</td>\n",
              "    </tr>\n",
              "    <tr>\n",
              "      <th>1</th>\n",
              "      <td>51.998750</td>\n",
              "      <td>22.409861</td>\n",
              "      <td>1.149708</td>\n",
              "    </tr>\n",
              "  </tbody>\n",
              "</table>\n",
              "</div>"
            ],
            "text/plain": [
              "         Lat        Lon  Population\n",
              "0  51.974306  22.411528    1.149708\n",
              "1  51.998750  22.409861    1.149708"
            ]
          },
          "metadata": {
            "tags": []
          },
          "execution_count": 19
        }
      ]
    },
    {
      "cell_type": "code",
      "metadata": {
        "id": "dMQElP4e7v_p"
      },
      "source": [
        "from shapely.geometry import Point\n",
        "def geo_point(x):\n",
        "  return Point(x.Lon, x.Lat)"
      ],
      "execution_count": 14,
      "outputs": []
    },
    {
      "cell_type": "code",
      "metadata": {
        "id": "Ds1bqr2G74TP",
        "outputId": "60304066-c0fc-4a54-a92a-7faf2295a17e",
        "colab": {
          "base_uri": "https://localhost:8080/",
          "height": 108
        }
      },
      "source": [
        "geodf[\"geometry\"] = geodf.apply(geo_point, axis=1)\n",
        "geodf[:2]"
      ],
      "execution_count": 20,
      "outputs": [
        {
          "output_type": "execute_result",
          "data": {
            "text/html": [
              "<div>\n",
              "<style scoped>\n",
              "    .dataframe tbody tr th:only-of-type {\n",
              "        vertical-align: middle;\n",
              "    }\n",
              "\n",
              "    .dataframe tbody tr th {\n",
              "        vertical-align: top;\n",
              "    }\n",
              "\n",
              "    .dataframe thead th {\n",
              "        text-align: right;\n",
              "    }\n",
              "</style>\n",
              "<table border=\"1\" class=\"dataframe\">\n",
              "  <thead>\n",
              "    <tr style=\"text-align: right;\">\n",
              "      <th></th>\n",
              "      <th>Lat</th>\n",
              "      <th>Lon</th>\n",
              "      <th>Population</th>\n",
              "      <th>geometry</th>\n",
              "    </tr>\n",
              "  </thead>\n",
              "  <tbody>\n",
              "    <tr>\n",
              "      <th>0</th>\n",
              "      <td>51.974306</td>\n",
              "      <td>22.411528</td>\n",
              "      <td>1.149708</td>\n",
              "      <td>POINT (22.41153 51.97431)</td>\n",
              "    </tr>\n",
              "    <tr>\n",
              "      <th>1</th>\n",
              "      <td>51.998750</td>\n",
              "      <td>22.409861</td>\n",
              "      <td>1.149708</td>\n",
              "      <td>POINT (22.40986 51.99875)</td>\n",
              "    </tr>\n",
              "  </tbody>\n",
              "</table>\n",
              "</div>"
            ],
            "text/plain": [
              "         Lat        Lon  Population                   geometry\n",
              "0  51.974306  22.411528    1.149708  POINT (22.41153 51.97431)\n",
              "1  51.998750  22.409861    1.149708  POINT (22.40986 51.99875)"
            ]
          },
          "metadata": {
            "tags": []
          },
          "execution_count": 20
        }
      ]
    },
    {
      "cell_type": "code",
      "metadata": {
        "id": "TrVlMdRN41V8"
      },
      "source": [
        "geodf.crs=\"epsg:4326\""
      ],
      "execution_count": 23,
      "outputs": []
    },
    {
      "cell_type": "code",
      "metadata": {
        "id": "j0RZBO8x8McT"
      },
      "source": [
        "import folium"
      ],
      "execution_count": 21,
      "outputs": []
    },
    {
      "cell_type": "code",
      "metadata": {
        "id": "KaLAc_5W0TSO",
        "outputId": "8a501140-0ee1-4a78-f2ce-ae2be4be49b6",
        "colab": {
          "base_uri": "https://localhost:8080/",
          "height": 992
        }
      },
      "source": [
        "m = folium.Map(location=[52 , 20], \n",
        "               tiles=\"cartodbpositron\",\n",
        "               zoom_start=7\n",
        "               )\n",
        "\n",
        "folium.GeoJson(\n",
        "    geodf[\"geometry\"]\n",
        "    ).add_to(m)\n",
        "\n",
        "m"
      ],
      "execution_count": 24,
      "outputs": [
        {
          "output_type": "execute_result",
          "data": {
            "text/html": [
              "<div style=\"width:100%;\"><div style=\"position:relative;width:100%;height:0;padding-bottom:60%;\"><span style=\"color:#565656\">Make this Notebook Trusted to load map: File -> Trust Notebook</span><iframe src=\"about:blank\" style=\"position:absolute;width:100%;height:100%;left:0;top:0;border:none !important;\" data-html=%3C%21DOCTYPE%20html%3E%0A%3Chead%3E%20%20%20%20%0A%20%20%20%20%3Cmeta%20http-equiv%3D%22content-type%22%20content%3D%22text/html%3B%20charset%3DUTF-8%22%20/%3E%0A%20%20%20%20%3Cscript%3EL_PREFER_CANVAS%3Dfalse%3B%20L_NO_TOUCH%3Dfalse%3B%20L_DISABLE_3D%3Dfalse%3B%3C/script%3E%0A%20%20%20%20%3Cscript%20src%3D%22https%3A//cdn.jsdelivr.net/npm/leaflet%401.4.0/dist/leaflet.js%22%3E%3C/script%3E%0A%20%20%20%20%3Cscript%20src%3D%22https%3A//code.jquery.com/jquery-1.12.4.min.js%22%3E%3C/script%3E%0A%20%20%20%20%3Cscript%20src%3D%22https%3A//maxcdn.bootstrapcdn.com/bootstrap/3.2.0/js/bootstrap.min.js%22%3E%3C/script%3E%0A%20%20%20%20%3Cscript%20src%3D%22https%3A//cdnjs.cloudflare.com/ajax/libs/Leaflet.awesome-markers/2.0.2/leaflet.awesome-markers.js%22%3E%3C/script%3E%0A%20%20%20%20%3Clink%20rel%3D%22stylesheet%22%20href%3D%22https%3A//cdn.jsdelivr.net/npm/leaflet%401.4.0/dist/leaflet.css%22/%3E%0A%20%20%20%20%3Clink%20rel%3D%22stylesheet%22%20href%3D%22https%3A//maxcdn.bootstrapcdn.com/bootstrap/3.2.0/css/bootstrap.min.css%22/%3E%0A%20%20%20%20%3Clink%20rel%3D%22stylesheet%22%20href%3D%22https%3A//maxcdn.bootstrapcdn.com/bootstrap/3.2.0/css/bootstrap-theme.min.css%22/%3E%0A%20%20%20%20%3Clink%20rel%3D%22stylesheet%22%20href%3D%22https%3A//maxcdn.bootstrapcdn.com/font-awesome/4.6.3/css/font-awesome.min.css%22/%3E%0A%20%20%20%20%3Clink%20rel%3D%22stylesheet%22%20href%3D%22https%3A//cdnjs.cloudflare.com/ajax/libs/Leaflet.awesome-markers/2.0.2/leaflet.awesome-markers.css%22/%3E%0A%20%20%20%20%3Clink%20rel%3D%22stylesheet%22%20href%3D%22https%3A//rawcdn.githack.com/python-visualization/folium/master/folium/templates/leaflet.awesome.rotate.css%22/%3E%0A%20%20%20%20%3Cstyle%3Ehtml%2C%20body%20%7Bwidth%3A%20100%25%3Bheight%3A%20100%25%3Bmargin%3A%200%3Bpadding%3A%200%3B%7D%3C/style%3E%0A%20%20%20%20%3Cstyle%3E%23map%20%7Bposition%3Aabsolute%3Btop%3A0%3Bbottom%3A0%3Bright%3A0%3Bleft%3A0%3B%7D%3C/style%3E%0A%20%20%20%20%0A%20%20%20%20%3Cmeta%20name%3D%22viewport%22%20content%3D%22width%3Ddevice-width%2C%0A%20%20%20%20%20%20%20%20initial-scale%3D1.0%2C%20maximum-scale%3D1.0%2C%20user-scalable%3Dno%22%20/%3E%0A%20%20%20%20%3Cstyle%3E%23map_71d4dd3db1604389a74f07019d7ee48f%20%7B%0A%20%20%20%20%20%20%20%20position%3A%20relative%3B%0A%20%20%20%20%20%20%20%20width%3A%20100.0%25%3B%0A%20%20%20%20%20%20%20%20height%3A%20100.0%25%3B%0A%20%20%20%20%20%20%20%20left%3A%200.0%25%3B%0A%20%20%20%20%20%20%20%20top%3A%200.0%25%3B%0A%20%20%20%20%20%20%20%20%7D%0A%20%20%20%20%3C/style%3E%0A%3C/head%3E%0A%3Cbody%3E%20%20%20%20%0A%20%20%20%20%0A%20%20%20%20%3Cdiv%20class%3D%22folium-map%22%20id%3D%22map_71d4dd3db1604389a74f07019d7ee48f%22%20%3E%3C/div%3E%0A%3C/body%3E%0A%3Cscript%3E%20%20%20%20%0A%20%20%20%20%0A%20%20%20%20%0A%20%20%20%20%20%20%20%20var%20bounds%20%3D%20null%3B%0A%20%20%20%20%0A%0A%20%20%20%20var%20map_71d4dd3db1604389a74f07019d7ee48f%20%3D%20L.map%28%0A%20%20%20%20%20%20%20%20%27map_71d4dd3db1604389a74f07019d7ee48f%27%2C%20%7B%0A%20%20%20%20%20%20%20%20center%3A%20%5B52%2C%2020%5D%2C%0A%20%20%20%20%20%20%20%20zoom%3A%207%2C%0A%20%20%20%20%20%20%20%20maxBounds%3A%20bounds%2C%0A%20%20%20%20%20%20%20%20layers%3A%20%5B%5D%2C%0A%20%20%20%20%20%20%20%20worldCopyJump%3A%20false%2C%0A%20%20%20%20%20%20%20%20crs%3A%20L.CRS.EPSG3857%2C%0A%20%20%20%20%20%20%20%20zoomControl%3A%20true%2C%0A%20%20%20%20%20%20%20%20%7D%29%3B%0A%0A%0A%20%20%20%20%0A%20%20%20%20var%20tile_layer_e0b98916aecd442c9c09b38c3e7f01d9%20%3D%20L.tileLayer%28%0A%20%20%20%20%20%20%20%20%27https%3A//cartodb-basemaps-%7Bs%7D.global.ssl.fastly.net/light_all/%7Bz%7D/%7Bx%7D/%7By%7D.png%27%2C%0A%20%20%20%20%20%20%20%20%7B%0A%20%20%20%20%20%20%20%20%22attribution%22%3A%20null%2C%0A%20%20%20%20%20%20%20%20%22detectRetina%22%3A%20false%2C%0A%20%20%20%20%20%20%20%20%22maxNativeZoom%22%3A%2018%2C%0A%20%20%20%20%20%20%20%20%22maxZoom%22%3A%2018%2C%0A%20%20%20%20%20%20%20%20%22minZoom%22%3A%200%2C%0A%20%20%20%20%20%20%20%20%22noWrap%22%3A%20false%2C%0A%20%20%20%20%20%20%20%20%22opacity%22%3A%201%2C%0A%20%20%20%20%20%20%20%20%22subdomains%22%3A%20%22abc%22%2C%0A%20%20%20%20%20%20%20%20%22tms%22%3A%20false%0A%7D%29.addTo%28map_71d4dd3db1604389a74f07019d7ee48f%29%3B%0A%20%20%20%20%0A%20%20%20%20%20%20%20%20var%20geo_json_d2499e91c00a4cc3b890894a17be4dac%20%3D%20L.geoJson%28%0A%20%20%20%20%20%20%20%20%20%20%20%20%7B%22bbox%22%3A%20%5B22.40319444446236%2C%2051.61902777781907%2C%2022.472083333351307%2C%2052.05097222226386%5D%2C%20%22features%22%3A%20%5B%7B%22bbox%22%3A%20%5B22.4115277777957%2C%2051.97430555559714%2C%2022.4115277777957%2C%2051.97430555559714%5D%2C%20%22geometry%22%3A%20%7B%22coordinates%22%3A%20%5B22.4115277777957%2C%2051.97430555559714%5D%2C%20%22type%22%3A%20%22Point%22%7D%2C%20%22id%22%3A%20%220%22%2C%20%22properties%22%3A%20%7B%22highlight%22%3A%20%7B%7D%2C%20%22style%22%3A%20%7B%7D%7D%2C%20%22type%22%3A%20%22Feature%22%7D%2C%20%7B%22bbox%22%3A%20%5B22.40986111112904%2C%2051.998750000041596%2C%2022.40986111112904%2C%2051.998750000041596%5D%2C%20%22geometry%22%3A%20%7B%22coordinates%22%3A%20%5B22.40986111112904%2C%2051.998750000041596%5D%2C%20%22type%22%3A%20%22Point%22%7D%2C%20%22id%22%3A%20%221%22%2C%20%22properties%22%3A%20%7B%22highlight%22%3A%20%7B%7D%2C%20%22style%22%3A%20%7B%7D%7D%2C%20%22type%22%3A%20%22Feature%22%7D%2C%20%7B%22bbox%22%3A%20%5B22.40319444446236%2C%2051.74958333337473%2C%2022.40319444446236%2C%2051.74958333337473%5D%2C%20%22geometry%22%3A%20%7B%22coordinates%22%3A%20%5B22.40319444446236%2C%2051.74958333337473%5D%2C%20%22type%22%3A%20%22Point%22%7D%2C%20%22id%22%3A%20%222%22%2C%20%22properties%22%3A%20%7B%22highlight%22%3A%20%7B%7D%2C%20%22style%22%3A%20%7B%7D%7D%2C%20%22type%22%3A%20%22Feature%22%7D%2C%20%7B%22bbox%22%3A%20%5B22.420416666684602%2C%2051.64208333337464%2C%2022.420416666684602%2C%2051.64208333337464%5D%2C%20%22geometry%22%3A%20%7B%22coordinates%22%3A%20%5B22.420416666684602%2C%2051.64208333337464%5D%2C%20%22type%22%3A%20%22Point%22%7D%2C%20%22id%22%3A%20%223%22%2C%20%22properties%22%3A%20%7B%22highlight%22%3A%20%7B%7D%2C%20%22style%22%3A%20%7B%7D%7D%2C%20%22type%22%3A%20%22Feature%22%7D%2C%20%7B%22bbox%22%3A%20%5B22.45263888890685%2C%2052.05097222226386%2C%2022.45263888890685%2C%2052.05097222226386%5D%2C%20%22geometry%22%3A%20%7B%22coordinates%22%3A%20%5B22.45263888890685%2C%2052.05097222226386%5D%2C%20%22type%22%3A%20%22Point%22%7D%2C%20%22id%22%3A%20%224%22%2C%20%22properties%22%3A%20%7B%22highlight%22%3A%20%7B%7D%2C%20%22style%22%3A%20%7B%7D%7D%2C%20%22type%22%3A%20%22Feature%22%7D%2C%20%7B%22bbox%22%3A%20%5B22.450694444462403%2C%2051.804305555597%2C%2022.450694444462403%2C%2051.804305555597%5D%2C%20%22geometry%22%3A%20%7B%22coordinates%22%3A%20%5B22.450694444462403%2C%2051.804305555597%5D%2C%20%22type%22%3A%20%22Point%22%7D%2C%20%22id%22%3A%20%225%22%2C%20%22properties%22%3A%20%7B%22highlight%22%3A%20%7B%7D%2C%20%22style%22%3A%20%7B%7D%7D%2C%20%22type%22%3A%20%22Feature%22%7D%2C%20%7B%22bbox%22%3A%20%5B22.45041666668462%2C%2051.80375000004144%2C%2022.45041666668462%2C%2051.80375000004144%5D%2C%20%22geometry%22%3A%20%7B%22coordinates%22%3A%20%5B22.45041666668462%2C%2051.80375000004144%5D%2C%20%22type%22%3A%20%22Point%22%7D%2C%20%22id%22%3A%20%226%22%2C%20%22properties%22%3A%20%7B%22highlight%22%3A%20%7B%7D%2C%20%22style%22%3A%20%7B%7D%7D%2C%20%22type%22%3A%20%22Feature%22%7D%2C%20%7B%22bbox%22%3A%20%5B22.452083333351293%2C%2051.78208333337476%2C%2022.452083333351293%2C%2051.78208333337476%5D%2C%20%22geometry%22%3A%20%7B%22coordinates%22%3A%20%5B22.452083333351293%2C%2051.78208333337476%5D%2C%20%22type%22%3A%20%22Point%22%7D%2C%20%22id%22%3A%20%227%22%2C%20%22properties%22%3A%20%7B%22highlight%22%3A%20%7B%7D%2C%20%22style%22%3A%20%7B%7D%7D%2C%20%22type%22%3A%20%22Feature%22%7D%2C%20%7B%22bbox%22%3A%20%5B22.472083333351307%2C%2051.67847222226357%2C%2022.472083333351307%2C%2051.67847222226357%5D%2C%20%22geometry%22%3A%20%7B%22coordinates%22%3A%20%5B22.472083333351307%2C%2051.67847222226357%5D%2C%20%22type%22%3A%20%22Point%22%7D%2C%20%22id%22%3A%20%228%22%2C%20%22properties%22%3A%20%7B%22highlight%22%3A%20%7B%7D%2C%20%22style%22%3A%20%7B%7D%7D%2C%20%22type%22%3A%20%22Feature%22%7D%2C%20%7B%22bbox%22%3A%20%5B22.469027777795752%2C%2051.61902777781907%2C%2022.469027777795752%2C%2051.61902777781907%5D%2C%20%22geometry%22%3A%20%7B%22coordinates%22%3A%20%5B22.469027777795752%2C%2051.61902777781907%5D%2C%20%22type%22%3A%20%22Point%22%7D%2C%20%22id%22%3A%20%229%22%2C%20%22properties%22%3A%20%7B%22highlight%22%3A%20%7B%7D%2C%20%22style%22%3A%20%7B%7D%7D%2C%20%22type%22%3A%20%22Feature%22%7D%5D%2C%20%22type%22%3A%20%22FeatureCollection%22%7D%2C%0A%20%20%20%20%20%20%20%20%20%20%20%20%7B%0A%20%20%20%20%20%20%20%20%20%20%20%20%7D%0A%20%20%20%20%20%20%20%20%29.addTo%28map_71d4dd3db1604389a74f07019d7ee48f%20%29%3B%0A%20%20%20%20%20%20%20%20geo_json_d2499e91c00a4cc3b890894a17be4dac.setStyle%28function%28feature%29%20%7Breturn%20feature.properties.style%3B%7D%29%3B%0A%20%20%20%20%20%20%20%20%0A%3C/script%3E onload=\"this.contentDocument.open();this.contentDocument.write(    decodeURIComponent(this.getAttribute('data-html')));this.contentDocument.close();\" allowfullscreen webkitallowfullscreen mozallowfullscreen></iframe></div></div>"
            ],
            "text/plain": [
              "<folium.folium.Map at 0x7fdc53f94f50>"
            ]
          },
          "metadata": {
            "tags": []
          },
          "execution_count": 24
        }
      ]
    }
  ]
}